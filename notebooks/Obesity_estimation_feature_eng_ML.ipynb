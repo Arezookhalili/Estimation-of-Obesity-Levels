{
 "cells": [
  {
   "cell_type": "markdown",
   "metadata": {},
   "source": [
    "# Obestiy Estimation - Feature Enginerring and Machine Learning Modelling"
   ]
  },
  {
   "cell_type": "markdown",
   "metadata": {},
   "source": [
    "### In this notebook we will implement various Machine Learning Classification alogrithms to select the best performing model\n",
    "1) Decision Tree </br>\n",
    "2) Random Forest</br>\n",
    "3) KNN </br>\n",
    "4) XGBClassifier</br>\n"
   ]
  },
  {
   "cell_type": "markdown",
   "metadata": {},
   "source": [
    "### Following steps will be taken to do that.\n",
    "##### Split the Dataset First:\n",
    "Split the dataset into training and test sets before applying transformations to avoid data leakage.\n",
    "##### One-Hot Encoding:\n",
    "Apply one-hot encoding only to the training set using fit_transform.</br>\n",
    "Use the same encoder to transform the test set with transform, ensuring consistency.</br>\n",
    "Handle unknown categories with handle_unknown='ignore'.\n",
    "##### Label Encoding for Target Variable:\n",
    "Apply label encoding to the entire target column (train + test) for consistent label mappings across splits.\n",
    "Safe because it doesn’t leak information from features to the model.\n",
    "##### Feature Scaling:\n",
    "Apply scaling (e.g., StandardScaler or MinMaxScaler) only to the training set using fit_transform.\n",
    "Use the same scaler to transform the test set with transform.\n",
    "##### Save Encoders/Scalers:\n",
    "Save the fitted encoders and scalers to ensure consistent transformations for future data.\n",
    "\n",
    "#####  GridsearchCV and 5-fold cross-validation to compare the accuracies."
   ]
  },
  {
   "cell_type": "markdown",
   "metadata": {},
   "source": []
  }
 ],
 "metadata": {
  "kernelspec": {
   "display_name": "dsi_participant",
   "language": "python",
   "name": "python3"
  },
  "language_info": {
   "codemirror_mode": {
    "name": "ipython",
    "version": 3
   },
   "file_extension": ".py",
   "mimetype": "text/x-python",
   "name": "python",
   "nbconvert_exporter": "python",
   "pygments_lexer": "ipython3",
   "version": "3.9.19"
  }
 },
 "nbformat": 4,
 "nbformat_minor": 2
}
