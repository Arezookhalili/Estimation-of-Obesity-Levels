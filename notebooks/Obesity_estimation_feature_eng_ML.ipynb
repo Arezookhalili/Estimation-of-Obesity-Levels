{
 "cells": [
  {
   "cell_type": "markdown",
   "metadata": {},
   "source": [
    "# Obesity Estimation - Feature Engineering and Machine Learning Models"
   ]
  },
  {
   "cell_type": "markdown",
   "metadata": {},
   "source": [
    "### In this notebook we will implement various Machine Learning Classification alogrithms to select the best performing model\n",
    "- Decision Tree </br>\n",
    "- Random Forest</br>\n",
    "- KNN </br>\n",
    "- XGBClassifier</br>\n"
   ]
  },
  {
   "cell_type": "markdown",
   "metadata": {},
   "source": [
    "### We will use the following steps:\n",
    "##### 1. Split the Dataset:\n",
    "Split the dataset into training and test sets before applying transformations to avoid data leakage.\n",
    "##### 2. Preprocessing:\n",
    "Apply one-hot encoding only to the training set using fit_transform.</br>\n",
    "Use the same encoder to transform the test set with transform, ensuring consistency.</br>\n",
    "Handle unknown categories with handle_unknown='ignore'.\n",
    "Apply a StandardScaler to the numerical columns.\n",
    "Use the same scaler to transform the test set with transform.\n",
    "##### 3. Label Encoding for Target Variable:\n",
    "Apply label encoding to the entire target column (train + test) for consistent label mappings across splits.\n",
    "This is safe as it will not allow information to leak from features to the data.\n",
    "\n",
    "#### Save Encoders/Scalers:\n",
    "Save the fitted encoders and scalers to ensure consistent transformations for future data.\n",
    "\n",
    "##### 5. Perform GridsearchCV and 5-fold cross-validation to compare the accuracies.\n",
    "\n",
    "#### 6. Explore Feature Importance\n",
    "\n",
    "#### 7. Tune Hyperparameters\n",
    "Tune hyperparamters on the models that performed best in GridSearch."
   ]
  },
  {
   "cell_type": "code",
<<<<<<< HEAD
   "execution_count": 341,
=======
   "execution_count": 1,
>>>>>>> c191d67dc685fe5b4d114c09f878e1f1474ed000
   "metadata": {},
   "outputs": [],
   "source": [
    "import pandas as pd"
   ]
  },
  {
   "cell_type": "code",
<<<<<<< HEAD
   "execution_count": 355,
=======
   "execution_count": 2,
>>>>>>> c191d67dc685fe5b4d114c09f878e1f1474ed000
   "metadata": {},
   "outputs": [
    {
     "name": "stdout",
     "output_type": "stream",
     "text": [
      "<class 'pandas.core.frame.DataFrame'>\n",
      "RangeIndex: 2087 entries, 0 to 2086\n",
<<<<<<< HEAD
      "Data columns (total 17 columns):\n",
=======
      "Data columns (total 18 columns):\n",
>>>>>>> c191d67dc685fe5b4d114c09f878e1f1474ed000
      " #   Column                     Non-Null Count  Dtype  \n",
      "---  ------                     --------------  -----  \n",
      " 0   Gender                     2087 non-null   object \n",
      " 1   Age                        2087 non-null   float64\n",
      " 2   Height                     2087 non-null   float64\n",
      " 3   Weight                     2087 non-null   float64\n",
      " 4   Family_History             2087 non-null   object \n",
      " 5   High_Cal_Foods_Frequently  2087 non-null   object \n",
      " 6   Freq_Veg                   2087 non-null   float64\n",
      " 7   Num_Meals                  2087 non-null   float64\n",
      " 8   Snacking                   2087 non-null   object \n",
      " 9   Smoke                      2087 non-null   object \n",
      " 10  Water_Intake               2087 non-null   float64\n",
      " 11  Calorie_Monitoring         2087 non-null   object \n",
      " 12  Phys_Activity              2087 non-null   float64\n",
      " 13  Tech_Use                   2087 non-null   float64\n",
      " 14  Freq_Alcohol               2087 non-null   object \n",
      " 15  Transportation             2087 non-null   object \n",
      " 16  Obesity_Level              2087 non-null   object \n",
<<<<<<< HEAD
      "dtypes: float64(8), object(9)\n",
      "memory usage: 277.3+ KB\n"
=======
      " 17  BMI                        2087 non-null   float64\n",
      "dtypes: float64(9), object(9)\n",
      "memory usage: 293.6+ KB\n"
>>>>>>> c191d67dc685fe5b4d114c09f878e1f1474ed000
     ]
    }
   ],
   "source": [
    "# Read data and convert to a dataframe\n",
    "clean_data_df = pd.read_csv(r'../data/clean_data.csv')\n",
    "\n",
    "clean_data_df.info()\n",
    "\n",
    "clean_data_df.drop('BMI', axis='columns', inplace=True)"
   ]
  },
  {
   "cell_type": "code",
<<<<<<< HEAD
   "execution_count": 356,
=======
   "execution_count": 3,
>>>>>>> c191d67dc685fe5b4d114c09f878e1f1474ed000
   "metadata": {},
   "outputs": [],
   "source": [
    "# Feature columns by preprocessing type: categorical and continous\n",
    "cat_cols = ['Gender', 'Family_History', 'High_Cal_Foods_Frequently', 'Snacking','Smoke', 'Calorie_Monitoring', 'Freq_Alcohol', 'Transportation']\n",
    "\n",
    "num_cols = ['Age', 'Height', 'Weight', 'Freq_Veg', 'Num_Meals','Water_Intake', 'Phys_Activity', 'Tech_Use']\n"
   ]
  },
  {
   "cell_type": "markdown",
   "metadata": {},
   "source": [
    "### Define dataframes X and y "
   ]
  },
  {
   "cell_type": "code",
<<<<<<< HEAD
   "execution_count": 357,
=======
   "execution_count": 4,
>>>>>>> c191d67dc685fe5b4d114c09f878e1f1474ed000
   "metadata": {},
   "outputs": [
    {
     "data": {
      "text/plain": [
       "((2087, 16), (2087,))"
      ]
     },
<<<<<<< HEAD
     "execution_count": 357,
=======
     "execution_count": 4,
>>>>>>> c191d67dc685fe5b4d114c09f878e1f1474ed000
     "metadata": {},
     "output_type": "execute_result"
    }
   ],
   "source": [
    "X = clean_data_df.drop('Obesity_Level',axis=1)  \n",
    "y = clean_data_df['Obesity_Level'] \n",
    "\n",
    "X.shape, y.shape"
   ]
  },
  {
   "cell_type": "markdown",
   "metadata": {},
   "source": [
    "### 1. Train test split - stratified splitting\n",
    "Stratified splitting means that when you generate a training / validation dataset split, it will attempt to keep the same percentages of classes in each split.\n",
    "\n",
    "These dataset divisions are usually generated randomly according to a target variable. However, when doing so, the proportions of the target variable among the different splits can differ, especially in the case of small datasets."
   ]
  },
  {
   "cell_type": "code",
<<<<<<< HEAD
   "execution_count": 358,
=======
   "execution_count": 5,
>>>>>>> c191d67dc685fe5b4d114c09f878e1f1474ed000
   "metadata": {},
   "outputs": [],
   "source": [
    "from sklearn.model_selection import train_test_split\n",
    "X_train, X_test, y_train, y_test=train_test_split(X, y, stratify=y, test_size=0.2, random_state=42)"
   ]
  },
  {
   "cell_type": "code",
<<<<<<< HEAD
   "execution_count": 359,
=======
   "execution_count": 6,
>>>>>>> c191d67dc685fe5b4d114c09f878e1f1474ed000
   "metadata": {},
   "outputs": [
    {
     "data": {
      "text/plain": [
       "((1669, 16), (418, 16), (1669,), (418,))"
      ]
     },
<<<<<<< HEAD
     "execution_count": 359,
=======
     "execution_count": 6,
>>>>>>> c191d67dc685fe5b4d114c09f878e1f1474ed000
     "metadata": {},
     "output_type": "execute_result"
    }
   ],
   "source": [
    "X_train.shape, X_test.shape, y_train.shape, y_test.shape"
   ]
  },
  {
   "cell_type": "markdown",
   "metadata": {},
   "source": [
    "### 2. Preprocess the Data"
   ]
  },
  {
   "cell_type": "code",
   "execution_count": 7,
   "metadata": {},
   "outputs": [
    {
     "data": {
      "text/html": [
<<<<<<< HEAD
       "<style>#sk-container-id-32 {\n",
=======
       "<style>#sk-container-id-1 {\n",
>>>>>>> c191d67dc685fe5b4d114c09f878e1f1474ed000
       "  /* Definition of color scheme common for light and dark mode */\n",
       "  --sklearn-color-text: black;\n",
       "  --sklearn-color-line: gray;\n",
       "  /* Definition of color scheme for unfitted estimators */\n",
       "  --sklearn-color-unfitted-level-0: #fff5e6;\n",
       "  --sklearn-color-unfitted-level-1: #f6e4d2;\n",
       "  --sklearn-color-unfitted-level-2: #ffe0b3;\n",
       "  --sklearn-color-unfitted-level-3: chocolate;\n",
       "  /* Definition of color scheme for fitted estimators */\n",
       "  --sklearn-color-fitted-level-0: #f0f8ff;\n",
       "  --sklearn-color-fitted-level-1: #d4ebff;\n",
       "  --sklearn-color-fitted-level-2: #b3dbfd;\n",
       "  --sklearn-color-fitted-level-3: cornflowerblue;\n",
       "\n",
       "  /* Specific color for light theme */\n",
       "  --sklearn-color-text-on-default-background: var(--sg-text-color, var(--theme-code-foreground, var(--jp-content-font-color1, black)));\n",
       "  --sklearn-color-background: var(--sg-background-color, var(--theme-background, var(--jp-layout-color0, white)));\n",
       "  --sklearn-color-border-box: var(--sg-text-color, var(--theme-code-foreground, var(--jp-content-font-color1, black)));\n",
       "  --sklearn-color-icon: #696969;\n",
       "\n",
       "  @media (prefers-color-scheme: dark) {\n",
       "    /* Redefinition of color scheme for dark theme */\n",
       "    --sklearn-color-text-on-default-background: var(--sg-text-color, var(--theme-code-foreground, var(--jp-content-font-color1, white)));\n",
       "    --sklearn-color-background: var(--sg-background-color, var(--theme-background, var(--jp-layout-color0, #111)));\n",
       "    --sklearn-color-border-box: var(--sg-text-color, var(--theme-code-foreground, var(--jp-content-font-color1, white)));\n",
       "    --sklearn-color-icon: #878787;\n",
       "  }\n",
       "}\n",
       "\n",
<<<<<<< HEAD
       "#sk-container-id-32 {\n",
       "  color: var(--sklearn-color-text);\n",
       "}\n",
       "\n",
       "#sk-container-id-32 pre {\n",
       "  padding: 0;\n",
       "}\n",
       "\n",
       "#sk-container-id-32 input.sk-hidden--visually {\n",
=======
       "#sk-container-id-1 {\n",
       "  color: var(--sklearn-color-text);\n",
       "}\n",
       "\n",
       "#sk-container-id-1 pre {\n",
       "  padding: 0;\n",
       "}\n",
       "\n",
       "#sk-container-id-1 input.sk-hidden--visually {\n",
>>>>>>> c191d67dc685fe5b4d114c09f878e1f1474ed000
       "  border: 0;\n",
       "  clip: rect(1px 1px 1px 1px);\n",
       "  clip: rect(1px, 1px, 1px, 1px);\n",
       "  height: 1px;\n",
       "  margin: -1px;\n",
       "  overflow: hidden;\n",
       "  padding: 0;\n",
       "  position: absolute;\n",
       "  width: 1px;\n",
       "}\n",
       "\n",
<<<<<<< HEAD
       "#sk-container-id-32 div.sk-dashed-wrapped {\n",
=======
       "#sk-container-id-1 div.sk-dashed-wrapped {\n",
>>>>>>> c191d67dc685fe5b4d114c09f878e1f1474ed000
       "  border: 1px dashed var(--sklearn-color-line);\n",
       "  margin: 0 0.4em 0.5em 0.4em;\n",
       "  box-sizing: border-box;\n",
       "  padding-bottom: 0.4em;\n",
       "  background-color: var(--sklearn-color-background);\n",
       "}\n",
       "\n",
<<<<<<< HEAD
       "#sk-container-id-32 div.sk-container {\n",
=======
       "#sk-container-id-1 div.sk-container {\n",
>>>>>>> c191d67dc685fe5b4d114c09f878e1f1474ed000
       "  /* jupyter's `normalize.less` sets `[hidden] { display: none; }`\n",
       "     but bootstrap.min.css set `[hidden] { display: none !important; }`\n",
       "     so we also need the `!important` here to be able to override the\n",
       "     default hidden behavior on the sphinx rendered scikit-learn.org.\n",
       "     See: https://github.com/scikit-learn/scikit-learn/issues/21755 */\n",
       "  display: inline-block !important;\n",
       "  position: relative;\n",
       "}\n",
       "\n",
<<<<<<< HEAD
       "#sk-container-id-32 div.sk-text-repr-fallback {\n",
=======
       "#sk-container-id-1 div.sk-text-repr-fallback {\n",
>>>>>>> c191d67dc685fe5b4d114c09f878e1f1474ed000
       "  display: none;\n",
       "}\n",
       "\n",
       "div.sk-parallel-item,\n",
       "div.sk-serial,\n",
       "div.sk-item {\n",
       "  /* draw centered vertical line to link estimators */\n",
       "  background-image: linear-gradient(var(--sklearn-color-text-on-default-background), var(--sklearn-color-text-on-default-background));\n",
       "  background-size: 2px 100%;\n",
       "  background-repeat: no-repeat;\n",
       "  background-position: center center;\n",
       "}\n",
       "\n",
       "/* Parallel-specific style estimator block */\n",
       "\n",
<<<<<<< HEAD
       "#sk-container-id-32 div.sk-parallel-item::after {\n",
=======
       "#sk-container-id-1 div.sk-parallel-item::after {\n",
>>>>>>> c191d67dc685fe5b4d114c09f878e1f1474ed000
       "  content: \"\";\n",
       "  width: 100%;\n",
       "  border-bottom: 2px solid var(--sklearn-color-text-on-default-background);\n",
       "  flex-grow: 1;\n",
       "}\n",
       "\n",
<<<<<<< HEAD
       "#sk-container-id-32 div.sk-parallel {\n",
=======
       "#sk-container-id-1 div.sk-parallel {\n",
>>>>>>> c191d67dc685fe5b4d114c09f878e1f1474ed000
       "  display: flex;\n",
       "  align-items: stretch;\n",
       "  justify-content: center;\n",
       "  background-color: var(--sklearn-color-background);\n",
       "  position: relative;\n",
       "}\n",
       "\n",
<<<<<<< HEAD
       "#sk-container-id-32 div.sk-parallel-item {\n",
=======
       "#sk-container-id-1 div.sk-parallel-item {\n",
>>>>>>> c191d67dc685fe5b4d114c09f878e1f1474ed000
       "  display: flex;\n",
       "  flex-direction: column;\n",
       "}\n",
       "\n",
<<<<<<< HEAD
       "#sk-container-id-32 div.sk-parallel-item:first-child::after {\n",
=======
       "#sk-container-id-1 div.sk-parallel-item:first-child::after {\n",
>>>>>>> c191d67dc685fe5b4d114c09f878e1f1474ed000
       "  align-self: flex-end;\n",
       "  width: 50%;\n",
       "}\n",
       "\n",
<<<<<<< HEAD
       "#sk-container-id-32 div.sk-parallel-item:last-child::after {\n",
=======
       "#sk-container-id-1 div.sk-parallel-item:last-child::after {\n",
>>>>>>> c191d67dc685fe5b4d114c09f878e1f1474ed000
       "  align-self: flex-start;\n",
       "  width: 50%;\n",
       "}\n",
       "\n",
<<<<<<< HEAD
       "#sk-container-id-32 div.sk-parallel-item:only-child::after {\n",
=======
       "#sk-container-id-1 div.sk-parallel-item:only-child::after {\n",
>>>>>>> c191d67dc685fe5b4d114c09f878e1f1474ed000
       "  width: 0;\n",
       "}\n",
       "\n",
       "/* Serial-specific style estimator block */\n",
       "\n",
<<<<<<< HEAD
       "#sk-container-id-32 div.sk-serial {\n",
=======
       "#sk-container-id-1 div.sk-serial {\n",
>>>>>>> c191d67dc685fe5b4d114c09f878e1f1474ed000
       "  display: flex;\n",
       "  flex-direction: column;\n",
       "  align-items: center;\n",
       "  background-color: var(--sklearn-color-background);\n",
       "  padding-right: 1em;\n",
       "  padding-left: 1em;\n",
       "}\n",
       "\n",
       "\n",
       "/* Toggleable style: style used for estimator/Pipeline/ColumnTransformer box that is\n",
       "clickable and can be expanded/collapsed.\n",
       "- Pipeline and ColumnTransformer use this feature and define the default style\n",
       "- Estimators will overwrite some part of the style using the `sk-estimator` class\n",
       "*/\n",
       "\n",
       "/* Pipeline and ColumnTransformer style (default) */\n",
       "\n",
<<<<<<< HEAD
       "#sk-container-id-32 div.sk-toggleable {\n",
=======
       "#sk-container-id-1 div.sk-toggleable {\n",
>>>>>>> c191d67dc685fe5b4d114c09f878e1f1474ed000
       "  /* Default theme specific background. It is overwritten whether we have a\n",
       "  specific estimator or a Pipeline/ColumnTransformer */\n",
       "  background-color: var(--sklearn-color-background);\n",
       "}\n",
       "\n",
       "/* Toggleable label */\n",
<<<<<<< HEAD
       "#sk-container-id-32 label.sk-toggleable__label {\n",
=======
       "#sk-container-id-1 label.sk-toggleable__label {\n",
>>>>>>> c191d67dc685fe5b4d114c09f878e1f1474ed000
       "  cursor: pointer;\n",
       "  display: block;\n",
       "  width: 100%;\n",
       "  margin-bottom: 0;\n",
       "  padding: 0.5em;\n",
       "  box-sizing: border-box;\n",
       "  text-align: center;\n",
       "}\n",
       "\n",
<<<<<<< HEAD
       "#sk-container-id-32 label.sk-toggleable__label-arrow:before {\n",
=======
       "#sk-container-id-1 label.sk-toggleable__label-arrow:before {\n",
>>>>>>> c191d67dc685fe5b4d114c09f878e1f1474ed000
       "  /* Arrow on the left of the label */\n",
       "  content: \"▸\";\n",
       "  float: left;\n",
       "  margin-right: 0.25em;\n",
       "  color: var(--sklearn-color-icon);\n",
       "}\n",
       "\n",
<<<<<<< HEAD
       "#sk-container-id-32 label.sk-toggleable__label-arrow:hover:before {\n",
=======
       "#sk-container-id-1 label.sk-toggleable__label-arrow:hover:before {\n",
>>>>>>> c191d67dc685fe5b4d114c09f878e1f1474ed000
       "  color: var(--sklearn-color-text);\n",
       "}\n",
       "\n",
       "/* Toggleable content - dropdown */\n",
       "\n",
<<<<<<< HEAD
       "#sk-container-id-32 div.sk-toggleable__content {\n",
=======
       "#sk-container-id-1 div.sk-toggleable__content {\n",
>>>>>>> c191d67dc685fe5b4d114c09f878e1f1474ed000
       "  max-height: 0;\n",
       "  max-width: 0;\n",
       "  overflow: hidden;\n",
       "  text-align: left;\n",
       "  /* unfitted */\n",
       "  background-color: var(--sklearn-color-unfitted-level-0);\n",
       "}\n",
       "\n",
<<<<<<< HEAD
       "#sk-container-id-32 div.sk-toggleable__content.fitted {\n",
=======
       "#sk-container-id-1 div.sk-toggleable__content.fitted {\n",
>>>>>>> c191d67dc685fe5b4d114c09f878e1f1474ed000
       "  /* fitted */\n",
       "  background-color: var(--sklearn-color-fitted-level-0);\n",
       "}\n",
       "\n",
<<<<<<< HEAD
       "#sk-container-id-32 div.sk-toggleable__content pre {\n",
=======
       "#sk-container-id-1 div.sk-toggleable__content pre {\n",
>>>>>>> c191d67dc685fe5b4d114c09f878e1f1474ed000
       "  margin: 0.2em;\n",
       "  border-radius: 0.25em;\n",
       "  color: var(--sklearn-color-text);\n",
       "  /* unfitted */\n",
       "  background-color: var(--sklearn-color-unfitted-level-0);\n",
       "}\n",
       "\n",
<<<<<<< HEAD
       "#sk-container-id-32 div.sk-toggleable__content.fitted pre {\n",
=======
       "#sk-container-id-1 div.sk-toggleable__content.fitted pre {\n",
>>>>>>> c191d67dc685fe5b4d114c09f878e1f1474ed000
       "  /* unfitted */\n",
       "  background-color: var(--sklearn-color-fitted-level-0);\n",
       "}\n",
       "\n",
<<<<<<< HEAD
       "#sk-container-id-32 input.sk-toggleable__control:checked~div.sk-toggleable__content {\n",
=======
       "#sk-container-id-1 input.sk-toggleable__control:checked~div.sk-toggleable__content {\n",
>>>>>>> c191d67dc685fe5b4d114c09f878e1f1474ed000
       "  /* Expand drop-down */\n",
       "  max-height: 200px;\n",
       "  max-width: 100%;\n",
       "  overflow: auto;\n",
       "}\n",
       "\n",
<<<<<<< HEAD
       "#sk-container-id-32 input.sk-toggleable__control:checked~label.sk-toggleable__label-arrow:before {\n",
=======
       "#sk-container-id-1 input.sk-toggleable__control:checked~label.sk-toggleable__label-arrow:before {\n",
>>>>>>> c191d67dc685fe5b4d114c09f878e1f1474ed000
       "  content: \"▾\";\n",
       "}\n",
       "\n",
       "/* Pipeline/ColumnTransformer-specific style */\n",
       "\n",
<<<<<<< HEAD
       "#sk-container-id-32 div.sk-label input.sk-toggleable__control:checked~label.sk-toggleable__label {\n",
=======
       "#sk-container-id-1 div.sk-label input.sk-toggleable__control:checked~label.sk-toggleable__label {\n",
>>>>>>> c191d67dc685fe5b4d114c09f878e1f1474ed000
       "  color: var(--sklearn-color-text);\n",
       "  background-color: var(--sklearn-color-unfitted-level-2);\n",
       "}\n",
       "\n",
<<<<<<< HEAD
       "#sk-container-id-32 div.sk-label.fitted input.sk-toggleable__control:checked~label.sk-toggleable__label {\n",
=======
       "#sk-container-id-1 div.sk-label.fitted input.sk-toggleable__control:checked~label.sk-toggleable__label {\n",
>>>>>>> c191d67dc685fe5b4d114c09f878e1f1474ed000
       "  background-color: var(--sklearn-color-fitted-level-2);\n",
       "}\n",
       "\n",
       "/* Estimator-specific style */\n",
       "\n",
       "/* Colorize estimator box */\n",
<<<<<<< HEAD
       "#sk-container-id-32 div.sk-estimator input.sk-toggleable__control:checked~label.sk-toggleable__label {\n",
=======
       "#sk-container-id-1 div.sk-estimator input.sk-toggleable__control:checked~label.sk-toggleable__label {\n",
>>>>>>> c191d67dc685fe5b4d114c09f878e1f1474ed000
       "  /* unfitted */\n",
       "  background-color: var(--sklearn-color-unfitted-level-2);\n",
       "}\n",
       "\n",
<<<<<<< HEAD
       "#sk-container-id-32 div.sk-estimator.fitted input.sk-toggleable__control:checked~label.sk-toggleable__label {\n",
=======
       "#sk-container-id-1 div.sk-estimator.fitted input.sk-toggleable__control:checked~label.sk-toggleable__label {\n",
>>>>>>> c191d67dc685fe5b4d114c09f878e1f1474ed000
       "  /* fitted */\n",
       "  background-color: var(--sklearn-color-fitted-level-2);\n",
       "}\n",
       "\n",
<<<<<<< HEAD
       "#sk-container-id-32 div.sk-label label.sk-toggleable__label,\n",
       "#sk-container-id-32 div.sk-label label {\n",
=======
       "#sk-container-id-1 div.sk-label label.sk-toggleable__label,\n",
       "#sk-container-id-1 div.sk-label label {\n",
>>>>>>> c191d67dc685fe5b4d114c09f878e1f1474ed000
       "  /* The background is the default theme color */\n",
       "  color: var(--sklearn-color-text-on-default-background);\n",
       "}\n",
       "\n",
       "/* On hover, darken the color of the background */\n",
<<<<<<< HEAD
       "#sk-container-id-32 div.sk-label:hover label.sk-toggleable__label {\n",
=======
       "#sk-container-id-1 div.sk-label:hover label.sk-toggleable__label {\n",
>>>>>>> c191d67dc685fe5b4d114c09f878e1f1474ed000
       "  color: var(--sklearn-color-text);\n",
       "  background-color: var(--sklearn-color-unfitted-level-2);\n",
       "}\n",
       "\n",
       "/* Label box, darken color on hover, fitted */\n",
<<<<<<< HEAD
       "#sk-container-id-32 div.sk-label.fitted:hover label.sk-toggleable__label.fitted {\n",
=======
       "#sk-container-id-1 div.sk-label.fitted:hover label.sk-toggleable__label.fitted {\n",
>>>>>>> c191d67dc685fe5b4d114c09f878e1f1474ed000
       "  color: var(--sklearn-color-text);\n",
       "  background-color: var(--sklearn-color-fitted-level-2);\n",
       "}\n",
       "\n",
       "/* Estimator label */\n",
       "\n",
<<<<<<< HEAD
       "#sk-container-id-32 div.sk-label label {\n",
=======
       "#sk-container-id-1 div.sk-label label {\n",
>>>>>>> c191d67dc685fe5b4d114c09f878e1f1474ed000
       "  font-family: monospace;\n",
       "  font-weight: bold;\n",
       "  display: inline-block;\n",
       "  line-height: 1.2em;\n",
       "}\n",
       "\n",
<<<<<<< HEAD
       "#sk-container-id-32 div.sk-label-container {\n",
=======
       "#sk-container-id-1 div.sk-label-container {\n",
>>>>>>> c191d67dc685fe5b4d114c09f878e1f1474ed000
       "  text-align: center;\n",
       "}\n",
       "\n",
       "/* Estimator-specific */\n",
<<<<<<< HEAD
       "#sk-container-id-32 div.sk-estimator {\n",
=======
       "#sk-container-id-1 div.sk-estimator {\n",
>>>>>>> c191d67dc685fe5b4d114c09f878e1f1474ed000
       "  font-family: monospace;\n",
       "  border: 1px dotted var(--sklearn-color-border-box);\n",
       "  border-radius: 0.25em;\n",
       "  box-sizing: border-box;\n",
       "  margin-bottom: 0.5em;\n",
       "  /* unfitted */\n",
       "  background-color: var(--sklearn-color-unfitted-level-0);\n",
       "}\n",
       "\n",
<<<<<<< HEAD
       "#sk-container-id-32 div.sk-estimator.fitted {\n",
=======
       "#sk-container-id-1 div.sk-estimator.fitted {\n",
>>>>>>> c191d67dc685fe5b4d114c09f878e1f1474ed000
       "  /* fitted */\n",
       "  background-color: var(--sklearn-color-fitted-level-0);\n",
       "}\n",
       "\n",
       "/* on hover */\n",
<<<<<<< HEAD
       "#sk-container-id-32 div.sk-estimator:hover {\n",
=======
       "#sk-container-id-1 div.sk-estimator:hover {\n",
>>>>>>> c191d67dc685fe5b4d114c09f878e1f1474ed000
       "  /* unfitted */\n",
       "  background-color: var(--sklearn-color-unfitted-level-2);\n",
       "}\n",
       "\n",
<<<<<<< HEAD
       "#sk-container-id-32 div.sk-estimator.fitted:hover {\n",
=======
       "#sk-container-id-1 div.sk-estimator.fitted:hover {\n",
>>>>>>> c191d67dc685fe5b4d114c09f878e1f1474ed000
       "  /* fitted */\n",
       "  background-color: var(--sklearn-color-fitted-level-2);\n",
       "}\n",
       "\n",
       "/* Specification for estimator info (e.g. \"i\" and \"?\") */\n",
       "\n",
       "/* Common style for \"i\" and \"?\" */\n",
       "\n",
       ".sk-estimator-doc-link,\n",
       "a:link.sk-estimator-doc-link,\n",
       "a:visited.sk-estimator-doc-link {\n",
       "  float: right;\n",
       "  font-size: smaller;\n",
       "  line-height: 1em;\n",
       "  font-family: monospace;\n",
       "  background-color: var(--sklearn-color-background);\n",
       "  border-radius: 1em;\n",
       "  height: 1em;\n",
       "  width: 1em;\n",
       "  text-decoration: none !important;\n",
       "  margin-left: 1ex;\n",
       "  /* unfitted */\n",
       "  border: var(--sklearn-color-unfitted-level-1) 1pt solid;\n",
       "  color: var(--sklearn-color-unfitted-level-1);\n",
       "}\n",
       "\n",
       ".sk-estimator-doc-link.fitted,\n",
       "a:link.sk-estimator-doc-link.fitted,\n",
       "a:visited.sk-estimator-doc-link.fitted {\n",
       "  /* fitted */\n",
       "  border: var(--sklearn-color-fitted-level-1) 1pt solid;\n",
       "  color: var(--sklearn-color-fitted-level-1);\n",
       "}\n",
       "\n",
       "/* On hover */\n",
       "div.sk-estimator:hover .sk-estimator-doc-link:hover,\n",
       ".sk-estimator-doc-link:hover,\n",
       "div.sk-label-container:hover .sk-estimator-doc-link:hover,\n",
       ".sk-estimator-doc-link:hover {\n",
       "  /* unfitted */\n",
       "  background-color: var(--sklearn-color-unfitted-level-3);\n",
       "  color: var(--sklearn-color-background);\n",
       "  text-decoration: none;\n",
       "}\n",
       "\n",
       "div.sk-estimator.fitted:hover .sk-estimator-doc-link.fitted:hover,\n",
       ".sk-estimator-doc-link.fitted:hover,\n",
       "div.sk-label-container:hover .sk-estimator-doc-link.fitted:hover,\n",
       ".sk-estimator-doc-link.fitted:hover {\n",
       "  /* fitted */\n",
       "  background-color: var(--sklearn-color-fitted-level-3);\n",
       "  color: var(--sklearn-color-background);\n",
       "  text-decoration: none;\n",
       "}\n",
       "\n",
       "/* Span, style for the box shown on hovering the info icon */\n",
       ".sk-estimator-doc-link span {\n",
       "  display: none;\n",
       "  z-index: 9999;\n",
       "  position: relative;\n",
       "  font-weight: normal;\n",
       "  right: .2ex;\n",
       "  padding: .5ex;\n",
       "  margin: .5ex;\n",
       "  width: min-content;\n",
       "  min-width: 20ex;\n",
       "  max-width: 50ex;\n",
       "  color: var(--sklearn-color-text);\n",
       "  box-shadow: 2pt 2pt 4pt #999;\n",
       "  /* unfitted */\n",
       "  background: var(--sklearn-color-unfitted-level-0);\n",
       "  border: .5pt solid var(--sklearn-color-unfitted-level-3);\n",
       "}\n",
       "\n",
       ".sk-estimator-doc-link.fitted span {\n",
       "  /* fitted */\n",
       "  background: var(--sklearn-color-fitted-level-0);\n",
       "  border: var(--sklearn-color-fitted-level-3);\n",
       "}\n",
       "\n",
       ".sk-estimator-doc-link:hover span {\n",
       "  display: block;\n",
       "}\n",
       "\n",
       "/* \"?\"-specific style due to the `<a>` HTML tag */\n",
       "\n",
<<<<<<< HEAD
       "#sk-container-id-32 a.estimator_doc_link {\n",
=======
       "#sk-container-id-1 a.estimator_doc_link {\n",
>>>>>>> c191d67dc685fe5b4d114c09f878e1f1474ed000
       "  float: right;\n",
       "  font-size: 1rem;\n",
       "  line-height: 1em;\n",
       "  font-family: monospace;\n",
       "  background-color: var(--sklearn-color-background);\n",
       "  border-radius: 1rem;\n",
       "  height: 1rem;\n",
       "  width: 1rem;\n",
       "  text-decoration: none;\n",
       "  /* unfitted */\n",
       "  color: var(--sklearn-color-unfitted-level-1);\n",
       "  border: var(--sklearn-color-unfitted-level-1) 1pt solid;\n",
       "}\n",
       "\n",
<<<<<<< HEAD
       "#sk-container-id-32 a.estimator_doc_link.fitted {\n",
=======
       "#sk-container-id-1 a.estimator_doc_link.fitted {\n",
>>>>>>> c191d67dc685fe5b4d114c09f878e1f1474ed000
       "  /* fitted */\n",
       "  border: var(--sklearn-color-fitted-level-1) 1pt solid;\n",
       "  color: var(--sklearn-color-fitted-level-1);\n",
       "}\n",
       "\n",
       "/* On hover */\n",
<<<<<<< HEAD
       "#sk-container-id-32 a.estimator_doc_link:hover {\n",
=======
       "#sk-container-id-1 a.estimator_doc_link:hover {\n",
>>>>>>> c191d67dc685fe5b4d114c09f878e1f1474ed000
       "  /* unfitted */\n",
       "  background-color: var(--sklearn-color-unfitted-level-3);\n",
       "  color: var(--sklearn-color-background);\n",
       "  text-decoration: none;\n",
       "}\n",
       "\n",
<<<<<<< HEAD
       "#sk-container-id-32 a.estimator_doc_link.fitted:hover {\n",
       "  /* fitted */\n",
       "  background-color: var(--sklearn-color-fitted-level-3);\n",
       "}\n",
       "</style><div id=\"sk-container-id-32\" class=\"sk-top-container\"><div class=\"sk-text-repr-fallback\"><pre>ColumnTransformer(remainder=StandardScaler(),\n",
       "                  transformers=[(&#x27;onehotencoder&#x27;, OneHotEncoder(),\n",
       "                                 [&#x27;Gender&#x27;, &#x27;Family_History&#x27;,\n",
       "                                  &#x27;High_Cal_Foods_Frequently&#x27;, &#x27;Snacking&#x27;,\n",
       "                                  &#x27;Smoke&#x27;, &#x27;Calorie_Monitoring&#x27;, &#x27;Freq_Alcohol&#x27;,\n",
       "                                  &#x27;Transportation&#x27;])])</pre><b>In a Jupyter environment, please rerun this cell to show the HTML representation or trust the notebook. <br />On GitHub, the HTML representation is unable to render, please try loading this page with nbviewer.org.</b></div><div class=\"sk-container\" hidden><div class=\"sk-item sk-dashed-wrapped\"><div class=\"sk-label-container\"><div class=\"sk-label  sk-toggleable\"><input class=\"sk-toggleable__control sk-hidden--visually\" id=\"sk-estimator-id-152\" type=\"checkbox\" ><label for=\"sk-estimator-id-152\" class=\"sk-toggleable__label  sk-toggleable__label-arrow \">&nbsp;&nbsp;ColumnTransformer<a class=\"sk-estimator-doc-link \" rel=\"noreferrer\" target=\"_blank\" href=\"https://scikit-learn.org/1.5/modules/generated/sklearn.compose.ColumnTransformer.html\">?<span>Documentation for ColumnTransformer</span></a><span class=\"sk-estimator-doc-link \">i<span>Not fitted</span></span></label><div class=\"sk-toggleable__content \"><pre>ColumnTransformer(remainder=StandardScaler(),\n",
       "                  transformers=[(&#x27;onehotencoder&#x27;, OneHotEncoder(),\n",
       "                                 [&#x27;Gender&#x27;, &#x27;Family_History&#x27;,\n",
       "                                  &#x27;High_Cal_Foods_Frequently&#x27;, &#x27;Snacking&#x27;,\n",
       "                                  &#x27;Smoke&#x27;, &#x27;Calorie_Monitoring&#x27;, &#x27;Freq_Alcohol&#x27;,\n",
       "                                  &#x27;Transportation&#x27;])])</pre></div> </div></div><div class=\"sk-parallel\"><div class=\"sk-parallel-item\"><div class=\"sk-item\"><div class=\"sk-label-container\"><div class=\"sk-label  sk-toggleable\"><input class=\"sk-toggleable__control sk-hidden--visually\" id=\"sk-estimator-id-153\" type=\"checkbox\" ><label for=\"sk-estimator-id-153\" class=\"sk-toggleable__label  sk-toggleable__label-arrow \">onehotencoder</label><div class=\"sk-toggleable__content \"><pre>[&#x27;Gender&#x27;, &#x27;Family_History&#x27;, &#x27;High_Cal_Foods_Frequently&#x27;, &#x27;Snacking&#x27;, &#x27;Smoke&#x27;, &#x27;Calorie_Monitoring&#x27;, &#x27;Freq_Alcohol&#x27;, &#x27;Transportation&#x27;]</pre></div> </div></div><div class=\"sk-serial\"><div class=\"sk-item\"><div class=\"sk-estimator  sk-toggleable\"><input class=\"sk-toggleable__control sk-hidden--visually\" id=\"sk-estimator-id-154\" type=\"checkbox\" ><label for=\"sk-estimator-id-154\" class=\"sk-toggleable__label  sk-toggleable__label-arrow \">&nbsp;OneHotEncoder<a class=\"sk-estimator-doc-link \" rel=\"noreferrer\" target=\"_blank\" href=\"https://scikit-learn.org/1.5/modules/generated/sklearn.preprocessing.OneHotEncoder.html\">?<span>Documentation for OneHotEncoder</span></a></label><div class=\"sk-toggleable__content \"><pre>OneHotEncoder()</pre></div> </div></div></div></div></div><div class=\"sk-parallel-item\"><div class=\"sk-item\"><div class=\"sk-label-container\"><div class=\"sk-label  sk-toggleable\"><input class=\"sk-toggleable__control sk-hidden--visually\" id=\"sk-estimator-id-155\" type=\"checkbox\" ><label for=\"sk-estimator-id-155\" class=\"sk-toggleable__label  sk-toggleable__label-arrow \">remainder</label><div class=\"sk-toggleable__content \"><pre></pre></div> </div></div><div class=\"sk-serial\"><div class=\"sk-item\"><div class=\"sk-estimator  sk-toggleable\"><input class=\"sk-toggleable__control sk-hidden--visually\" id=\"sk-estimator-id-156\" type=\"checkbox\" ><label for=\"sk-estimator-id-156\" class=\"sk-toggleable__label  sk-toggleable__label-arrow \">&nbsp;StandardScaler<a class=\"sk-estimator-doc-link \" rel=\"noreferrer\" target=\"_blank\" href=\"https://scikit-learn.org/1.5/modules/generated/sklearn.preprocessing.StandardScaler.html\">?<span>Documentation for StandardScaler</span></a></label><div class=\"sk-toggleable__content \"><pre>StandardScaler()</pre></div> </div></div></div></div></div></div></div></div></div>"
      ],
      "text/plain": [
       "ColumnTransformer(remainder=StandardScaler(),\n",
       "                  transformers=[('onehotencoder', OneHotEncoder(),\n",
=======
       "#sk-container-id-1 a.estimator_doc_link.fitted:hover {\n",
       "  /* fitted */\n",
       "  background-color: var(--sklearn-color-fitted-level-3);\n",
       "}\n",
       "</style><div id=\"sk-container-id-1\" class=\"sk-top-container\"><div class=\"sk-text-repr-fallback\"><pre>ColumnTransformer(transformers=[(&#x27;onehotencoder&#x27;,\n",
       "                                 OneHotEncoder(handle_unknown=&#x27;ignore&#x27;),\n",
       "                                 [&#x27;Gender&#x27;, &#x27;Family_History&#x27;,\n",
       "                                  &#x27;High_Cal_Foods_Frequently&#x27;, &#x27;Snacking&#x27;,\n",
       "                                  &#x27;Smoke&#x27;, &#x27;Calorie_Monitoring&#x27;, &#x27;Freq_Alcohol&#x27;,\n",
       "                                  &#x27;Transportation&#x27;])])</pre><b>In a Jupyter environment, please rerun this cell to show the HTML representation or trust the notebook. <br />On GitHub, the HTML representation is unable to render, please try loading this page with nbviewer.org.</b></div><div class=\"sk-container\" hidden><div class=\"sk-item sk-dashed-wrapped\"><div class=\"sk-label-container\"><div class=\"sk-label  sk-toggleable\"><input class=\"sk-toggleable__control sk-hidden--visually\" id=\"sk-estimator-id-1\" type=\"checkbox\" ><label for=\"sk-estimator-id-1\" class=\"sk-toggleable__label  sk-toggleable__label-arrow \">&nbsp;&nbsp;ColumnTransformer<a class=\"sk-estimator-doc-link \" rel=\"noreferrer\" target=\"_blank\" href=\"https://scikit-learn.org/1.5/modules/generated/sklearn.compose.ColumnTransformer.html\">?<span>Documentation for ColumnTransformer</span></a><span class=\"sk-estimator-doc-link \">i<span>Not fitted</span></span></label><div class=\"sk-toggleable__content \"><pre>ColumnTransformer(transformers=[(&#x27;onehotencoder&#x27;,\n",
       "                                 OneHotEncoder(handle_unknown=&#x27;ignore&#x27;),\n",
       "                                 [&#x27;Gender&#x27;, &#x27;Family_History&#x27;,\n",
       "                                  &#x27;High_Cal_Foods_Frequently&#x27;, &#x27;Snacking&#x27;,\n",
       "                                  &#x27;Smoke&#x27;, &#x27;Calorie_Monitoring&#x27;, &#x27;Freq_Alcohol&#x27;,\n",
       "                                  &#x27;Transportation&#x27;])])</pre></div> </div></div><div class=\"sk-parallel\"><div class=\"sk-parallel-item\"><div class=\"sk-item\"><div class=\"sk-label-container\"><div class=\"sk-label  sk-toggleable\"><input class=\"sk-toggleable__control sk-hidden--visually\" id=\"sk-estimator-id-2\" type=\"checkbox\" ><label for=\"sk-estimator-id-2\" class=\"sk-toggleable__label  sk-toggleable__label-arrow \">onehotencoder</label><div class=\"sk-toggleable__content \"><pre>[&#x27;Gender&#x27;, &#x27;Family_History&#x27;, &#x27;High_Cal_Foods_Frequently&#x27;, &#x27;Snacking&#x27;, &#x27;Smoke&#x27;, &#x27;Calorie_Monitoring&#x27;, &#x27;Freq_Alcohol&#x27;, &#x27;Transportation&#x27;]</pre></div> </div></div><div class=\"sk-serial\"><div class=\"sk-item\"><div class=\"sk-estimator  sk-toggleable\"><input class=\"sk-toggleable__control sk-hidden--visually\" id=\"sk-estimator-id-3\" type=\"checkbox\" ><label for=\"sk-estimator-id-3\" class=\"sk-toggleable__label  sk-toggleable__label-arrow \">&nbsp;OneHotEncoder<a class=\"sk-estimator-doc-link \" rel=\"noreferrer\" target=\"_blank\" href=\"https://scikit-learn.org/1.5/modules/generated/sklearn.preprocessing.OneHotEncoder.html\">?<span>Documentation for OneHotEncoder</span></a></label><div class=\"sk-toggleable__content \"><pre>OneHotEncoder(handle_unknown=&#x27;ignore&#x27;)</pre></div> </div></div></div></div></div></div></div></div></div>"
      ],
      "text/plain": [
       "ColumnTransformer(transformers=[('onehotencoder',\n",
       "                                 OneHotEncoder(handle_unknown='ignore'),\n",
>>>>>>> c191d67dc685fe5b4d114c09f878e1f1474ed000
       "                                 ['Gender', 'Family_History',\n",
       "                                  'High_Cal_Foods_Frequently', 'Snacking',\n",
       "                                  'Smoke', 'Calorie_Monitoring', 'Freq_Alcohol',\n",
       "                                  'Transportation'])])"
      ]
     },
<<<<<<< HEAD
     "execution_count": 364,
=======
     "execution_count": 7,
>>>>>>> c191d67dc685fe5b4d114c09f878e1f1474ed000
     "metadata": {},
     "output_type": "execute_result"
    }
   ],
   "source": [
    "import sklearn\n",
    "import numpy as np\n",
    "from sklearn.pipeline import Pipeline\n",
    "from sklearn.compose import ColumnTransformer, make_column_transformer\n",
    "from sklearn.preprocessing import StandardScaler\n",
    "from sklearn.preprocessing import OneHotEncoder\n",
    "\n",
    "transformer = make_column_transformer(\n",
    "        (OneHotEncoder(), cat_cols),\n",
    "        remainder=StandardScaler())\n",
    "\n",
    "transformer"
   ]
  },
  {
   "cell_type": "markdown",
   "metadata": {},
   "source": [
    "  - X_train Preprocessing"
   ]
  },
  {
   "cell_type": "code",
<<<<<<< HEAD
   "execution_count": 362,
=======
   "execution_count": 8,
>>>>>>> c191d67dc685fe5b4d114c09f878e1f1474ed000
   "metadata": {},
   "outputs": [
    {
     "data": {
      "text/plain": [
       "Index(['Age', 'Height', 'Weight', 'Freq_Veg', 'Num_Meals', 'Water_Intake',\n",
       "       'Phys_Activity', 'Tech_Use', 'onehotencoder__Gender_Female',\n",
       "       'onehotencoder__Gender_Male', 'onehotencoder__Family_History_no',\n",
       "       'onehotencoder__Family_History_yes',\n",
       "       'onehotencoder__High_Cal_Foods_Frequently_no',\n",
       "       'onehotencoder__High_Cal_Foods_Frequently_yes',\n",
       "       'onehotencoder__Snacking_Always', 'onehotencoder__Snacking_Frequently',\n",
       "       'onehotencoder__Snacking_Sometimes', 'onehotencoder__Snacking_no',\n",
       "       'onehotencoder__Smoke_no', 'onehotencoder__Smoke_yes',\n",
       "       'onehotencoder__Calorie_Monitoring_no',\n",
       "       'onehotencoder__Calorie_Monitoring_yes',\n",
       "       'onehotencoder__Freq_Alcohol_Always',\n",
       "       'onehotencoder__Freq_Alcohol_Frequently',\n",
       "       'onehotencoder__Freq_Alcohol_Sometimes',\n",
       "       'onehotencoder__Freq_Alcohol_no',\n",
       "       'onehotencoder__Transportation_Automobile',\n",
       "       'onehotencoder__Transportation_Bike',\n",
       "       'onehotencoder__Transportation_Motorbike',\n",
       "       'onehotencoder__Transportation_Public_Transportation',\n",
       "       'onehotencoder__Transportation_Walking'],\n",
       "      dtype='object')"
      ]
     },
     "execution_count": 8,
     "metadata": {},
     "output_type": "execute_result"
    }
   ],
   "source": [
<<<<<<< HEAD
    "X_train= transformer.fit_transform(X_train)"
   ]
  },
  {
   "cell_type": "code",
   "execution_count": 363,
   "metadata": {},
   "outputs": [
    {
     "name": "stdout",
     "output_type": "stream",
     "text": [
      "(1669, 31)\n"
     ]
    },
    {
     "data": {
      "text/plain": [
       "array([ 0.        ,  1.        ,  0.        ,  1.        ,  0.        ,\n",
       "        1.        ,  0.        ,  0.        ,  1.        ,  0.        ,\n",
       "        1.        ,  0.        ,  1.        ,  0.        ,  0.        ,\n",
       "        0.        ,  1.        ,  0.        ,  0.        ,  0.        ,\n",
       "        0.        ,  1.        ,  0.        ,  0.24828996,  0.70553681,\n",
       "        1.04502551, -0.37588513,  0.39180083,  0.25310232,  0.30853754,\n",
       "       -0.45291571])"
      ]
     },
     "execution_count": 363,
     "metadata": {},
     "output_type": "execute_result"
    }
   ],
   "source": [
    "print(X_train.shape)\n",
    "X_train[0]"
=======
    "# Transforming\n",
    "transformed = transformer.fit_transform(X_train)\n",
    "# Transformating back\n",
    "transformed_df = pd.DataFrame(transformed, columns=transformer.get_feature_names_out())\n",
    "# One-hot encoding removed an index. Let's put it back:\n",
    "transformed_df.index = X_train.index\n",
    "# Joining tables\n",
    "X_train = pd.concat([X_train, transformed_df], axis=1)\n",
    "# Dropping old categorical columns\n",
    "X_train.drop(cat_cols, axis=1, inplace=True)\n",
    "# CHecking result\n",
    "X_train.head()\n",
    "X_train.columns"
>>>>>>> c191d67dc685fe5b4d114c09f878e1f1474ed000
   ]
  },
  {
   "cell_type": "markdown",
   "metadata": {},
   "source": [
    "- X_test Encoding"
   ]
  },
  {
   "cell_type": "code",
   "execution_count": 9,
   "metadata": {},
   "outputs": [
    {
     "data": {
      "text/html": [
       "<div>\n",
       "<style scoped>\n",
       "    .dataframe tbody tr th:only-of-type {\n",
       "        vertical-align: middle;\n",
       "    }\n",
       "\n",
       "    .dataframe tbody tr th {\n",
       "        vertical-align: top;\n",
       "    }\n",
       "\n",
       "    .dataframe thead th {\n",
       "        text-align: right;\n",
       "    }\n",
       "</style>\n",
       "<table border=\"1\" class=\"dataframe\">\n",
       "  <thead>\n",
       "    <tr style=\"text-align: right;\">\n",
       "      <th></th>\n",
       "      <th>Age</th>\n",
       "      <th>Height</th>\n",
       "      <th>Weight</th>\n",
       "      <th>Freq_Veg</th>\n",
       "      <th>Num_Meals</th>\n",
       "      <th>Water_Intake</th>\n",
       "      <th>Phys_Activity</th>\n",
       "      <th>Tech_Use</th>\n",
<<<<<<< HEAD
       "      <th>one_hot__Gender_Female</th>\n",
       "      <th>one_hot__Gender_Male</th>\n",
       "      <th>...</th>\n",
       "      <th>one_hot__Transportation_Public_Transportation</th>\n",
       "      <th>one_hot__Transportation_Walking</th>\n",
       "      <th>standard_scaler__Age</th>\n",
       "      <th>standard_scaler__Height</th>\n",
       "      <th>standard_scaler__Weight</th>\n",
       "      <th>standard_scaler__Freq_Veg</th>\n",
       "      <th>standard_scaler__Num_Meals</th>\n",
       "      <th>standard_scaler__Water_Intake</th>\n",
       "      <th>standard_scaler__Phys_Activity</th>\n",
       "      <th>standard_scaler__Tech_Use</th>\n",
=======
       "      <th>onehotencoder__Gender_Female</th>\n",
       "      <th>onehotencoder__Gender_Male</th>\n",
       "      <th>...</th>\n",
       "      <th>onehotencoder__Calorie_Monitoring_yes</th>\n",
       "      <th>onehotencoder__Freq_Alcohol_Always</th>\n",
       "      <th>onehotencoder__Freq_Alcohol_Frequently</th>\n",
       "      <th>onehotencoder__Freq_Alcohol_Sometimes</th>\n",
       "      <th>onehotencoder__Freq_Alcohol_no</th>\n",
       "      <th>onehotencoder__Transportation_Automobile</th>\n",
       "      <th>onehotencoder__Transportation_Bike</th>\n",
       "      <th>onehotencoder__Transportation_Motorbike</th>\n",
       "      <th>onehotencoder__Transportation_Public_Transportation</th>\n",
       "      <th>onehotencoder__Transportation_Walking</th>\n",
>>>>>>> c191d67dc685fe5b4d114c09f878e1f1474ed000
       "    </tr>\n",
       "  </thead>\n",
       "  <tbody>\n",
       "    <tr>\n",
       "      <th>1153</th>\n",
       "      <td>19.955257</td>\n",
       "      <td>1.589100</td>\n",
       "      <td>72.713611</td>\n",
       "      <td>3.00000</td>\n",
       "      <td>3.856434</td>\n",
       "      <td>2.000000</td>\n",
       "      <td>1.324170</td>\n",
       "      <td>1.000000</td>\n",
       "      <td>1.0</td>\n",
       "      <td>0.0</td>\n",
       "      <td>...</td>\n",
<<<<<<< HEAD
       "      <td>1.0</td>\n",
       "      <td>0.0</td>\n",
       "      <td>-0.690071</td>\n",
       "      <td>-1.202029</td>\n",
       "      <td>-0.537291</td>\n",
       "      <td>1.084280</td>\n",
       "      <td>1.512030</td>\n",
       "      <td>-0.000656</td>\n",
       "      <td>0.376859</td>\n",
       "      <td>0.550747</td>\n",
=======
       "      <td>0.0</td>\n",
       "      <td>0.0</td>\n",
       "      <td>0.0</td>\n",
       "      <td>1.0</td>\n",
       "      <td>0.0</td>\n",
       "      <td>0.0</td>\n",
       "      <td>0.0</td>\n",
       "      <td>0.0</td>\n",
       "      <td>1.0</td>\n",
       "      <td>0.0</td>\n",
>>>>>>> c191d67dc685fe5b4d114c09f878e1f1474ed000
       "    </tr>\n",
       "    <tr>\n",
       "      <th>132</th>\n",
       "      <td>30.000000</td>\n",
       "      <td>1.770000</td>\n",
       "      <td>109.000000</td>\n",
       "      <td>3.00000</td>\n",
       "      <td>3.000000</td>\n",
       "      <td>1.000000</td>\n",
       "      <td>2.000000</td>\n",
       "      <td>0.000000</td>\n",
       "      <td>0.0</td>\n",
       "      <td>1.0</td>\n",
       "      <td>...</td>\n",
       "      <td>0.0</td>\n",
       "      <td>0.0</td>\n",
<<<<<<< HEAD
       "      <td>0.899810</td>\n",
       "      <td>0.736866</td>\n",
       "      <td>0.848928</td>\n",
       "      <td>1.084280</td>\n",
       "      <td>0.391801</td>\n",
       "      <td>-1.644954</td>\n",
       "      <td>1.182627</td>\n",
       "      <td>-1.095082</td>\n",
=======
       "      <td>0.0</td>\n",
       "      <td>1.0</td>\n",
       "      <td>0.0</td>\n",
       "      <td>1.0</td>\n",
       "      <td>0.0</td>\n",
       "      <td>0.0</td>\n",
       "      <td>0.0</td>\n",
       "      <td>0.0</td>\n",
>>>>>>> c191d67dc685fe5b4d114c09f878e1f1474ed000
       "    </tr>\n",
       "    <tr>\n",
       "      <th>1923</th>\n",
       "      <td>20.601222</td>\n",
       "      <td>1.738717</td>\n",
       "      <td>128.114161</td>\n",
       "      <td>3.00000</td>\n",
       "      <td>3.000000</td>\n",
       "      <td>1.797041</td>\n",
       "      <td>1.427413</td>\n",
       "      <td>0.966181</td>\n",
       "      <td>1.0</td>\n",
       "      <td>0.0</td>\n",
       "      <td>...</td>\n",
<<<<<<< HEAD
       "      <td>1.0</td>\n",
       "      <td>0.0</td>\n",
       "      <td>-0.587828</td>\n",
       "      <td>0.401573</td>\n",
       "      <td>1.579131</td>\n",
       "      <td>1.084280</td>\n",
       "      <td>0.391801</td>\n",
       "      <td>-0.334381</td>\n",
       "      <td>0.499952</td>\n",
       "      <td>0.495086</td>\n",
=======
       "      <td>0.0</td>\n",
       "      <td>0.0</td>\n",
       "      <td>0.0</td>\n",
       "      <td>1.0</td>\n",
       "      <td>0.0</td>\n",
       "      <td>0.0</td>\n",
       "      <td>0.0</td>\n",
       "      <td>0.0</td>\n",
       "      <td>1.0</td>\n",
       "      <td>0.0</td>\n",
>>>>>>> c191d67dc685fe5b4d114c09f878e1f1474ed000
       "    </tr>\n",
       "    <tr>\n",
       "      <th>846</th>\n",
       "      <td>16.950499</td>\n",
       "      <td>1.603501</td>\n",
       "      <td>65.000000</td>\n",
       "      <td>2.96008</td>\n",
       "      <td>1.000000</td>\n",
       "      <td>2.000000</td>\n",
       "      <td>0.736032</td>\n",
       "      <td>1.344072</td>\n",
       "      <td>1.0</td>\n",
       "      <td>0.0</td>\n",
       "      <td>...</td>\n",
       "      <td>1.0</td>\n",
       "      <td>0.0</td>\n",
<<<<<<< HEAD
       "      <td>-1.165664</td>\n",
       "      <td>-1.047678</td>\n",
       "      <td>-0.831968</td>\n",
       "      <td>1.008997</td>\n",
       "      <td>-2.224232</td>\n",
       "      <td>-0.000656</td>\n",
       "      <td>-0.324357</td>\n",
       "      <td>1.117030</td>\n",
=======
       "      <td>0.0</td>\n",
       "      <td>0.0</td>\n",
       "      <td>1.0</td>\n",
       "      <td>0.0</td>\n",
       "      <td>0.0</td>\n",
       "      <td>0.0</td>\n",
       "      <td>1.0</td>\n",
       "      <td>0.0</td>\n",
>>>>>>> c191d67dc685fe5b4d114c09f878e1f1474ed000
       "    </tr>\n",
       "    <tr>\n",
       "      <th>1246</th>\n",
       "      <td>29.506287</td>\n",
       "      <td>1.826970</td>\n",
       "      <td>108.751502</td>\n",
       "      <td>2.00000</td>\n",
       "      <td>2.877583</td>\n",
       "      <td>2.358038</td>\n",
       "      <td>0.877295</td>\n",
       "      <td>1.817146</td>\n",
       "      <td>0.0</td>\n",
       "      <td>1.0</td>\n",
       "      <td>...</td>\n",
       "      <td>0.0</td>\n",
       "      <td>0.0</td>\n",
<<<<<<< HEAD
       "      <td>0.821665</td>\n",
       "      <td>1.347473</td>\n",
       "      <td>0.839435</td>\n",
       "      <td>-0.801583</td>\n",
       "      <td>0.231677</td>\n",
       "      <td>0.588066</td>\n",
       "      <td>-0.155934</td>\n",
       "      <td>1.895629</td>\n",
       "    </tr>\n",
       "  </tbody>\n",
       "</table>\n",
       "<p>5 rows × 39 columns</p>\n",
=======
       "      <td>0.0</td>\n",
       "      <td>1.0</td>\n",
       "      <td>0.0</td>\n",
       "      <td>1.0</td>\n",
       "      <td>0.0</td>\n",
       "      <td>0.0</td>\n",
       "      <td>0.0</td>\n",
       "      <td>0.0</td>\n",
       "    </tr>\n",
       "  </tbody>\n",
       "</table>\n",
       "<p>5 rows × 31 columns</p>\n",
>>>>>>> c191d67dc685fe5b4d114c09f878e1f1474ed000
       "</div>"
      ],
      "text/plain": [
       "            Age    Height      Weight  Freq_Veg  Num_Meals  Water_Intake  \\\n",
       "1153  19.955257  1.589100   72.713611   3.00000   3.856434      2.000000   \n",
       "132   30.000000  1.770000  109.000000   3.00000   3.000000      1.000000   \n",
       "1923  20.601222  1.738717  128.114161   3.00000   3.000000      1.797041   \n",
       "846   16.950499  1.603501   65.000000   2.96008   1.000000      2.000000   \n",
       "1246  29.506287  1.826970  108.751502   2.00000   2.877583      2.358038   \n",
       "\n",
<<<<<<< HEAD
       "      Phys_Activity  Tech_Use  one_hot__Gender_Female  one_hot__Gender_Male  \\\n",
       "1153       1.324170  1.000000                     1.0                   0.0   \n",
       "132        2.000000  0.000000                     0.0                   1.0   \n",
       "1923       1.427413  0.966181                     1.0                   0.0   \n",
       "846        0.736032  1.344072                     1.0                   0.0   \n",
       "1246       0.877295  1.817146                     0.0                   1.0   \n",
       "\n",
       "      ...  one_hot__Transportation_Public_Transportation  \\\n",
       "1153  ...                                            1.0   \n",
       "132   ...                                            0.0   \n",
       "1923  ...                                            1.0   \n",
       "846   ...                                            1.0   \n",
       "1246  ...                                            0.0   \n",
       "\n",
       "      one_hot__Transportation_Walking  standard_scaler__Age  \\\n",
       "1153                              0.0             -0.690071   \n",
       "132                               0.0              0.899810   \n",
       "1923                              0.0             -0.587828   \n",
       "846                               0.0             -1.165664   \n",
       "1246                              0.0              0.821665   \n",
       "\n",
       "      standard_scaler__Height  standard_scaler__Weight  \\\n",
       "1153                -1.202029                -0.537291   \n",
       "132                  0.736866                 0.848928   \n",
       "1923                 0.401573                 1.579131   \n",
       "846                 -1.047678                -0.831968   \n",
       "1246                 1.347473                 0.839435   \n",
       "\n",
       "      standard_scaler__Freq_Veg  standard_scaler__Num_Meals  \\\n",
       "1153                   1.084280                    1.512030   \n",
       "132                    1.084280                    0.391801   \n",
       "1923                   1.084280                    0.391801   \n",
       "846                    1.008997                   -2.224232   \n",
       "1246                  -0.801583                    0.231677   \n",
       "\n",
       "      standard_scaler__Water_Intake  standard_scaler__Phys_Activity  \\\n",
       "1153                      -0.000656                        0.376859   \n",
       "132                       -1.644954                        1.182627   \n",
       "1923                      -0.334381                        0.499952   \n",
       "846                       -0.000656                       -0.324357   \n",
       "1246                       0.588066                       -0.155934   \n",
       "\n",
       "      standard_scaler__Tech_Use  \n",
       "1153                   0.550747  \n",
       "132                   -1.095082  \n",
       "1923                   0.495086  \n",
       "846                    1.117030  \n",
       "1246                   1.895629  \n",
       "\n",
       "[5 rows x 39 columns]"
      ]
     },
     "execution_count": 283,
=======
       "      Phys_Activity  Tech_Use  onehotencoder__Gender_Female  \\\n",
       "1153       1.324170  1.000000                           1.0   \n",
       "132        2.000000  0.000000                           0.0   \n",
       "1923       1.427413  0.966181                           1.0   \n",
       "846        0.736032  1.344072                           1.0   \n",
       "1246       0.877295  1.817146                           0.0   \n",
       "\n",
       "      onehotencoder__Gender_Male  ...  onehotencoder__Calorie_Monitoring_yes  \\\n",
       "1153                         0.0  ...                                    0.0   \n",
       "132                          1.0  ...                                    0.0   \n",
       "1923                         0.0  ...                                    0.0   \n",
       "846                          0.0  ...                                    1.0   \n",
       "1246                         1.0  ...                                    0.0   \n",
       "\n",
       "      onehotencoder__Freq_Alcohol_Always  \\\n",
       "1153                                 0.0   \n",
       "132                                  0.0   \n",
       "1923                                 0.0   \n",
       "846                                  0.0   \n",
       "1246                                 0.0   \n",
       "\n",
       "      onehotencoder__Freq_Alcohol_Frequently  \\\n",
       "1153                                     0.0   \n",
       "132                                      0.0   \n",
       "1923                                     0.0   \n",
       "846                                      0.0   \n",
       "1246                                     0.0   \n",
       "\n",
       "      onehotencoder__Freq_Alcohol_Sometimes  onehotencoder__Freq_Alcohol_no  \\\n",
       "1153                                    1.0                             0.0   \n",
       "132                                     1.0                             0.0   \n",
       "1923                                    1.0                             0.0   \n",
       "846                                     0.0                             1.0   \n",
       "1246                                    1.0                             0.0   \n",
       "\n",
       "      onehotencoder__Transportation_Automobile  \\\n",
       "1153                                       0.0   \n",
       "132                                        1.0   \n",
       "1923                                       0.0   \n",
       "846                                        0.0   \n",
       "1246                                       1.0   \n",
       "\n",
       "      onehotencoder__Transportation_Bike  \\\n",
       "1153                                 0.0   \n",
       "132                                  0.0   \n",
       "1923                                 0.0   \n",
       "846                                  0.0   \n",
       "1246                                 0.0   \n",
       "\n",
       "      onehotencoder__Transportation_Motorbike  \\\n",
       "1153                                      0.0   \n",
       "132                                       0.0   \n",
       "1923                                      0.0   \n",
       "846                                       0.0   \n",
       "1246                                      0.0   \n",
       "\n",
       "      onehotencoder__Transportation_Public_Transportation  \\\n",
       "1153                                                1.0     \n",
       "132                                                 0.0     \n",
       "1923                                                1.0     \n",
       "846                                                 1.0     \n",
       "1246                                                0.0     \n",
       "\n",
       "      onehotencoder__Transportation_Walking  \n",
       "1153                                    0.0  \n",
       "132                                     0.0  \n",
       "1923                                    0.0  \n",
       "846                                     0.0  \n",
       "1246                                    0.0  \n",
       "\n",
       "[5 rows x 31 columns]"
      ]
     },
     "execution_count": 9,
>>>>>>> c191d67dc685fe5b4d114c09f878e1f1474ed000
     "metadata": {},
     "output_type": "execute_result"
    }
   ],
   "source": [
    "# Transforming\n",
    "transformed = transformer.transform(X_test)\n",
    "# Transformating back\n",
    "transformed_df = pd.DataFrame(transformed, columns=transformer.get_feature_names_out())\n",
    "# One-hot encoding removed an index. Let's put it back:\n",
    "transformed_df.index = X_test.index\n",
    "# Joining tables\n",
    "X_test = pd.concat([X_test, transformed_df], axis=1)\n",
    "# Dropping old categorical columns\n",
    "X_test.drop(cat_cols, axis=1, inplace=True)\n",
    "# CHecking result\n",
    "X_test.head()"
   ]
  },
  {
<<<<<<< HEAD
=======
   "cell_type": "code",
   "execution_count": 10,
   "metadata": {},
   "outputs": [
    {
     "name": "stdout",
     "output_type": "stream",
     "text": [
      "Index(['Age', 'Height', 'Weight', 'Freq_Veg', 'Num_Meals', 'Water_Intake',\n",
      "       'Phys_Activity', 'Tech_Use', 'onehotencoder__Gender_Female',\n",
      "       'onehotencoder__Gender_Male', 'onehotencoder__Family_History_no',\n",
      "       'onehotencoder__Family_History_yes',\n",
      "       'onehotencoder__High_Cal_Foods_Frequently_no',\n",
      "       'onehotencoder__High_Cal_Foods_Frequently_yes',\n",
      "       'onehotencoder__Snacking_Always', 'onehotencoder__Snacking_Frequently',\n",
      "       'onehotencoder__Snacking_Sometimes', 'onehotencoder__Snacking_no',\n",
      "       'onehotencoder__Smoke_no', 'onehotencoder__Smoke_yes',\n",
      "       'onehotencoder__Calorie_Monitoring_no',\n",
      "       'onehotencoder__Calorie_Monitoring_yes',\n",
      "       'onehotencoder__Freq_Alcohol_Always',\n",
      "       'onehotencoder__Freq_Alcohol_Frequently',\n",
      "       'onehotencoder__Freq_Alcohol_Sometimes',\n",
      "       'onehotencoder__Freq_Alcohol_no',\n",
      "       'onehotencoder__Transportation_Automobile',\n",
      "       'onehotencoder__Transportation_Bike',\n",
      "       'onehotencoder__Transportation_Motorbike',\n",
      "       'onehotencoder__Transportation_Public_Transportation',\n",
      "       'onehotencoder__Transportation_Walking'],\n",
      "      dtype='object')\n"
     ]
    }
   ],
   "source": [
    "print(X_train.columns)"
   ]
  },
  {
   "cell_type": "code",
   "execution_count": 11,
   "metadata": {},
   "outputs": [
    {
     "data": {
      "text/html": [
       "<div>\n",
       "<style scoped>\n",
       "    .dataframe tbody tr th:only-of-type {\n",
       "        vertical-align: middle;\n",
       "    }\n",
       "\n",
       "    .dataframe tbody tr th {\n",
       "        vertical-align: top;\n",
       "    }\n",
       "\n",
       "    .dataframe thead th {\n",
       "        text-align: right;\n",
       "    }\n",
       "</style>\n",
       "<table border=\"1\" class=\"dataframe\">\n",
       "  <thead>\n",
       "    <tr style=\"text-align: right;\">\n",
       "      <th></th>\n",
       "      <th>Age</th>\n",
       "      <th>Height</th>\n",
       "      <th>Weight</th>\n",
       "      <th>Freq_Veg</th>\n",
       "      <th>Num_Meals</th>\n",
       "      <th>Water_Intake</th>\n",
       "      <th>Phys_Activity</th>\n",
       "      <th>Tech_Use</th>\n",
       "      <th>Gender_Female</th>\n",
       "      <th>Gender_Male</th>\n",
       "      <th>...</th>\n",
       "      <th>Calorie_Monitoring_yes</th>\n",
       "      <th>Freq_Alcohol_Always</th>\n",
       "      <th>Freq_Alcohol_Frequently</th>\n",
       "      <th>Freq_Alcohol_Sometimes</th>\n",
       "      <th>Freq_Alcohol_no</th>\n",
       "      <th>Transportation_Automobile</th>\n",
       "      <th>Transportation_Bike</th>\n",
       "      <th>Transportation_Motorbike</th>\n",
       "      <th>Transportation_Public_Transportation</th>\n",
       "      <th>Transportation_Walking</th>\n",
       "    </tr>\n",
       "  </thead>\n",
       "  <tbody>\n",
       "    <tr>\n",
       "      <th>1549</th>\n",
       "      <td>25.883749</td>\n",
       "      <td>1.767077</td>\n",
       "      <td>114.133149</td>\n",
       "      <td>2.225731</td>\n",
       "      <td>3.000000</td>\n",
       "      <td>2.154326</td>\n",
       "      <td>1.266866</td>\n",
       "      <td>0.390178</td>\n",
       "      <td>0.0</td>\n",
       "      <td>1.0</td>\n",
       "      <td>...</td>\n",
       "      <td>0.0</td>\n",
       "      <td>0.0</td>\n",
       "      <td>0.0</td>\n",
       "      <td>1.0</td>\n",
       "      <td>0.0</td>\n",
       "      <td>0.0</td>\n",
       "      <td>0.0</td>\n",
       "      <td>0.0</td>\n",
       "      <td>1.0</td>\n",
       "      <td>0.0</td>\n",
       "    </tr>\n",
       "    <tr>\n",
       "      <th>1574</th>\n",
       "      <td>30.686701</td>\n",
       "      <td>1.644517</td>\n",
       "      <td>100.004418</td>\n",
       "      <td>2.964050</td>\n",
       "      <td>2.123138</td>\n",
       "      <td>1.000000</td>\n",
       "      <td>1.699181</td>\n",
       "      <td>0.620465</td>\n",
       "      <td>0.0</td>\n",
       "      <td>1.0</td>\n",
       "      <td>...</td>\n",
       "      <td>0.0</td>\n",
       "      <td>0.0</td>\n",
       "      <td>0.0</td>\n",
       "      <td>0.0</td>\n",
       "      <td>1.0</td>\n",
       "      <td>0.0</td>\n",
       "      <td>0.0</td>\n",
       "      <td>0.0</td>\n",
       "      <td>1.0</td>\n",
       "      <td>0.0</td>\n",
       "    </tr>\n",
       "    <tr>\n",
       "      <th>1155</th>\n",
       "      <td>47.706100</td>\n",
       "      <td>1.743935</td>\n",
       "      <td>84.729197</td>\n",
       "      <td>2.535315</td>\n",
       "      <td>3.000000</td>\n",
       "      <td>1.146595</td>\n",
       "      <td>0.313810</td>\n",
       "      <td>0.000000</td>\n",
       "      <td>0.0</td>\n",
       "      <td>1.0</td>\n",
       "      <td>...</td>\n",
       "      <td>0.0</td>\n",
       "      <td>0.0</td>\n",
       "      <td>0.0</td>\n",
       "      <td>0.0</td>\n",
       "      <td>1.0</td>\n",
       "      <td>1.0</td>\n",
       "      <td>0.0</td>\n",
       "      <td>0.0</td>\n",
       "      <td>0.0</td>\n",
       "      <td>0.0</td>\n",
       "    </tr>\n",
       "    <tr>\n",
       "      <th>610</th>\n",
       "      <td>22.998709</td>\n",
       "      <td>1.740108</td>\n",
       "      <td>53.657270</td>\n",
       "      <td>2.241606</td>\n",
       "      <td>3.000000</td>\n",
       "      <td>1.846626</td>\n",
       "      <td>2.460238</td>\n",
       "      <td>0.814518</td>\n",
       "      <td>1.0</td>\n",
       "      <td>0.0</td>\n",
       "      <td>...</td>\n",
       "      <td>0.0</td>\n",
       "      <td>0.0</td>\n",
       "      <td>0.0</td>\n",
       "      <td>0.0</td>\n",
       "      <td>1.0</td>\n",
       "      <td>0.0</td>\n",
       "      <td>0.0</td>\n",
       "      <td>0.0</td>\n",
       "      <td>1.0</td>\n",
       "      <td>0.0</td>\n",
       "    </tr>\n",
       "    <tr>\n",
       "      <th>906</th>\n",
       "      <td>21.009437</td>\n",
       "      <td>1.606810</td>\n",
       "      <td>67.773914</td>\n",
       "      <td>2.000000</td>\n",
       "      <td>3.156309</td>\n",
       "      <td>3.000000</td>\n",
       "      <td>1.179592</td>\n",
       "      <td>0.086868</td>\n",
       "      <td>1.0</td>\n",
       "      <td>0.0</td>\n",
       "      <td>...</td>\n",
       "      <td>0.0</td>\n",
       "      <td>0.0</td>\n",
       "      <td>0.0</td>\n",
       "      <td>1.0</td>\n",
       "      <td>0.0</td>\n",
       "      <td>0.0</td>\n",
       "      <td>0.0</td>\n",
       "      <td>0.0</td>\n",
       "      <td>1.0</td>\n",
       "      <td>0.0</td>\n",
       "    </tr>\n",
       "  </tbody>\n",
       "</table>\n",
       "<p>5 rows × 31 columns</p>\n",
       "</div>"
      ],
      "text/plain": [
       "            Age    Height      Weight  Freq_Veg  Num_Meals  Water_Intake  \\\n",
       "1549  25.883749  1.767077  114.133149  2.225731   3.000000      2.154326   \n",
       "1574  30.686701  1.644517  100.004418  2.964050   2.123138      1.000000   \n",
       "1155  47.706100  1.743935   84.729197  2.535315   3.000000      1.146595   \n",
       "610   22.998709  1.740108   53.657270  2.241606   3.000000      1.846626   \n",
       "906   21.009437  1.606810   67.773914  2.000000   3.156309      3.000000   \n",
       "\n",
       "      Phys_Activity  Tech_Use  Gender_Female  Gender_Male  ...  \\\n",
       "1549       1.266866  0.390178            0.0          1.0  ...   \n",
       "1574       1.699181  0.620465            0.0          1.0  ...   \n",
       "1155       0.313810  0.000000            0.0          1.0  ...   \n",
       "610        2.460238  0.814518            1.0          0.0  ...   \n",
       "906        1.179592  0.086868            1.0          0.0  ...   \n",
       "\n",
       "      Calorie_Monitoring_yes  Freq_Alcohol_Always  Freq_Alcohol_Frequently  \\\n",
       "1549                     0.0                  0.0                      0.0   \n",
       "1574                     0.0                  0.0                      0.0   \n",
       "1155                     0.0                  0.0                      0.0   \n",
       "610                      0.0                  0.0                      0.0   \n",
       "906                      0.0                  0.0                      0.0   \n",
       "\n",
       "      Freq_Alcohol_Sometimes  Freq_Alcohol_no  Transportation_Automobile  \\\n",
       "1549                     1.0              0.0                        0.0   \n",
       "1574                     0.0              1.0                        0.0   \n",
       "1155                     0.0              1.0                        1.0   \n",
       "610                      0.0              1.0                        0.0   \n",
       "906                      1.0              0.0                        0.0   \n",
       "\n",
       "      Transportation_Bike  Transportation_Motorbike  \\\n",
       "1549                  0.0                       0.0   \n",
       "1574                  0.0                       0.0   \n",
       "1155                  0.0                       0.0   \n",
       "610                   0.0                       0.0   \n",
       "906                   0.0                       0.0   \n",
       "\n",
       "      Transportation_Public_Transportation  Transportation_Walking  \n",
       "1549                                   1.0                     0.0  \n",
       "1574                                   1.0                     0.0  \n",
       "1155                                   0.0                     0.0  \n",
       "610                                    1.0                     0.0  \n",
       "906                                    1.0                     0.0  \n",
       "\n",
       "[5 rows x 31 columns]"
      ]
     },
     "execution_count": 11,
     "metadata": {},
     "output_type": "execute_result"
    }
   ],
   "source": [
    "# Setting new feature names\n",
    "\n",
    "X_train.columns = ['Age', 'Height', 'Weight', 'Freq_Veg', 'Num_Meals', 'Water_Intake',\n",
    "       'Phys_Activity', 'Tech_Use', 'Gender_Female',\n",
    "       'Gender_Male', 'Family_History_no',\n",
    "       'Family_History_yes',\n",
    "       'High_Cal_Foods_Frequently_no',\n",
    "       'High_Cal_Foods_Frequently_yes',\n",
    "       'Snacking_Always', 'Snacking_Frequently',\n",
    "       'Snacking_Sometimes', 'Snacking_no',\n",
    "       'Smoke_no', 'Smoke_yes',\n",
    "       'Calorie_Monitoring_no',\n",
    "       'Calorie_Monitoring_yes',\n",
    "       'Freq_Alcohol_Always',\n",
    "       'Freq_Alcohol_Frequently',\n",
    "       'Freq_Alcohol_Sometimes',\n",
    "       'Freq_Alcohol_no',\n",
    "       'Transportation_Automobile',\n",
    "       'Transportation_Bike',\n",
    "       'Transportation_Motorbike',\n",
    "       'Transportation_Public_Transportation',\n",
    "       'Transportation_Walking']\n",
    "\n",
    "X_test.columns = ['Age', 'Height', 'Weight', 'Freq_Veg', 'Num_Meals', 'Water_Intake',\n",
    "       'Phys_Activity', 'Tech_Use', 'Gender_Female',\n",
    "       'Gender_Male', 'Family_History_no',\n",
    "       'Family_History_yes',\n",
    "       'High_Cal_Foods_Frequently_no',\n",
    "       'High_Cal_Foods_Frequently_yes',\n",
    "       'Snacking_Always', 'Snacking_Frequently',\n",
    "       'Snacking_Sometimes', 'Snacking_no',\n",
    "       'Smoke_no', 'Smoke_yes',\n",
    "       'Calorie_Monitoring_no',\n",
    "       'Calorie_Monitoring_yes',\n",
    "       'Freq_Alcohol_Always',\n",
    "       'Freq_Alcohol_Frequently',\n",
    "       'Freq_Alcohol_Sometimes',\n",
    "       'Freq_Alcohol_no',\n",
    "       'Transportation_Automobile',\n",
    "       'Transportation_Bike',\n",
    "       'Transportation_Motorbike',\n",
    "       'Transportation_Public_Transportation',\n",
    "       'Transportation_Walking']\n",
    "# After renaming the columns\n",
    "\n",
    "X_train.head()\n"
   ]
  },
  {
>>>>>>> c191d67dc685fe5b4d114c09f878e1f1474ed000
   "cell_type": "markdown",
   "metadata": {},
   "source": [
    "#### 3.  Apply Label Encoder to y_train"
   ]
  },
  {
   "cell_type": "code",
<<<<<<< HEAD
   "execution_count": 336,
=======
   "execution_count": 12,
   "metadata": {},
   "outputs": [
    {
     "data": {
      "text/plain": [
       "array([[-6.90071116e-01, -1.20202894e+00, -5.37290881e-01, ...,\n",
       "        -6.55657288e-04,  3.76859047e-01,  5.50746591e-01],\n",
       "       [ 8.99809729e-01,  7.36865660e-01,  8.48928060e-01, ...,\n",
       "        -1.64495394e+00,  1.18262701e+00, -1.09508170e+00],\n",
       "       [-5.87827845e-01,  4.01573013e-01,  1.57913056e+00, ...,\n",
       "        -3.34380792e-01,  4.99951987e-01,  4.95086324e-01],\n",
       "       ...,\n",
       "       [ 2.31474460e+00,  3.97328667e-01,  5.99121072e-03, ...,\n",
       "        -1.43106526e+00,  2.17742012e+00, -1.02109514e+00],\n",
       "       [-1.41398774e-01,  5.81100291e-01,  1.78406421e+00, ...,\n",
       "         1.38677363e+00,  3.51031027e-01,  1.78471752e-01],\n",
       "       [-2.18340846e-01,  3.32870336e-01, -1.22027068e+00, ...,\n",
       "         5.21448757e-03,  2.99814931e-01, -4.08580389e-01]])"
      ]
     },
     "execution_count": 12,
     "metadata": {},
     "output_type": "execute_result"
    }
   ],
   "source": [
    "from sklearn.preprocessing import StandardScaler\n",
    "Standard_Scaler = StandardScaler()\n",
    "x_scaled = Standard_Scaler.fit_transform(X_train[num_cols])\n",
    "x_test_scaled = Standard_Scaler.transform(X_test[num_cols])\n",
    "\n",
    "x_test_scaled"
   ]
  },
  {
   "cell_type": "markdown",
   "metadata": {},
   "source": [
    "### Apply Label encoder"
   ]
  },
  {
   "cell_type": "code",
   "execution_count": 13,
>>>>>>> c191d67dc685fe5b4d114c09f878e1f1474ed000
   "metadata": {},
   "outputs": [
    {
     "data": {
      "text/plain": [
       "(1549        Obesity_Type_II\n",
       " 1574        Obesity_Type_II\n",
       " 1155    Overweight_Level_II\n",
       " 610     Insufficient_Weight\n",
       " 906      Overweight_Level_I\n",
       " 18      Overweight_Level_II\n",
       " 191           Normal_Weight\n",
       " 1696        Obesity_Type_II\n",
       " 1676        Obesity_Type_II\n",
       " 2004       Obesity_Type_III\n",
       " Name: Obesity_Level, dtype: object,\n",
       " array([3, 3, 6, 0, 5, 6, 1, 3, 3, 4]))"
      ]
     },
     "execution_count": 13,
     "metadata": {},
     "output_type": "execute_result"
    }
   ],
   "source": [
    "from sklearn.preprocessing import LabelEncoder\n",
    "\n",
    "le = LabelEncoder()\n",
<<<<<<< HEAD
    "y_train_encoded = le.fit_transform(y_train)\n"
=======
    "y_train_encoded = le.fit_transform(y_train)\n",
    "\n",
    "y_train.head(10) , y_train_encoded[0:10]"
>>>>>>> c191d67dc685fe5b4d114c09f878e1f1474ed000
   ]
  },
  {
   "cell_type": "markdown",
   "metadata": {},
   "source": [
    "### 4. Classifier Models using GridSearch"
   ]
  },
  {
   "cell_type": "code",
   "execution_count": 14,
   "metadata": {},
   "outputs": [],
   "source": [
    "from sklearn.ensemble import RandomForestClassifier\n",
    "from sklearn.tree import DecisionTreeClassifier\n",
    "from sklearn.neighbors import KNeighborsClassifier\n",
    "from xgboost import XGBClassifier"
   ]
  },
  {
   "cell_type": "markdown",
   "metadata": {},
   "source": [
    "##### Models in consideration - RandomForest, DecisionTree, KNN, XGBoost"
   ]
  },
  {
   "cell_type": "code",
   "execution_count": 15,
   "metadata": {},
   "outputs": [],
   "source": [
    "models={'RandomForest':RandomForestClassifier(),\n",
    "        'DecisionTree':DecisionTreeClassifier(),\n",
    "        'KNeighbors':KNeighborsClassifier(),\n",
    "        'xgbc': XGBClassifier()}"
   ]
  },
  {
   "cell_type": "markdown",
   "metadata": {},
   "source": [
    "##### Models in consideration - Paramter grid"
   ]
  },
  {
   "cell_type": "code",
<<<<<<< HEAD
   "execution_count": 339,
=======
   "execution_count": 16,
>>>>>>> c191d67dc685fe5b4d114c09f878e1f1474ed000
   "metadata": {},
   "outputs": [],
   "source": [
    "param_grids={'RandomForest': {\n",
    "                'n_estimators': [100, 200],\n",
    "                'max_depth': [None, 10, 20]},\n",
    "            'DecisionTree': {\n",
    "                'max_depth': [None, 10, 20],\n",
    "                'min_samples_split': [2, 5, 10]\n",
    "            },'KNeighbors':{\n",
    "            'n_neighbors': [3, 5, 7]\n",
    "        }, 'xgbc':{\n",
    "            'n_estimators':[600],\n",
    "            'learning_rate':[0.03],\n",
    "            'objective':['multi:softmax'], \n",
    "            'verbosity':[0], \n",
    "            'nthread':[-1], \n",
    "            'random_state':[42]\n",
    "        }\n",
    "    }"
   ]
  },
  {
   "cell_type": "markdown",
<<<<<<< HEAD
=======
   "metadata": {},
   "source": [
    "##### Scoring for measuring model performance"
   ]
  },
  {
   "cell_type": "code",
   "execution_count": 17,
>>>>>>> c191d67dc685fe5b4d114c09f878e1f1474ed000
   "metadata": {},
   "source": [
    "#### Model Results from GridSearch"
   ]
  },
  {
   "cell_type": "code",
   "execution_count": 325,
   "metadata": {},
   "outputs": [
    {
     "name": "stdout",
     "output_type": "stream",
     "text": [
      "\n",
      "Running GridSearch for RandomForest...\n",
      "Best parameters for RandomForest: {'max_depth': 20, 'n_estimators': 200}\n",
      "Best accuracy: 0.9377\n",
      "Best precision: 0.9420\n",
      "Best recall: 0.9377\n",
      "\n",
      "Running GridSearch for DecisionTree...\n",
      "Best parameters for DecisionTree: {'max_depth': 20, 'min_samples_split': 2}\n",
      "Best accuracy: 0.9191\n",
      "Best precision: 0.9200\n",
      "Best recall: 0.9191\n",
      "\n",
      "Running GridSearch for KNeighbors...\n",
      "Best parameters for KNeighbors: {'n_neighbors': 3}\n",
      "Best accuracy: 0.8388\n",
      "Best precision: 0.8390\n",
      "Best recall: 0.8388\n"
     ]
    }
   ],
   "source": [
    "from sklearn.metrics import make_scorer, precision_score, recall_score, f1_score\n",
    "scoring = {\n",
    "    'accuracy': 'accuracy',\n",
    "    'precision': make_scorer(precision_score, average='weighted'),\n",
    "    'recall': make_scorer(recall_score, average='weighted'),\n",
    "    'f1': make_scorer(f1_score, average='weighted')}"
   ]
  },
  {
   "cell_type": "markdown",
   "metadata": {},
   "source": [
    "##### Model Evalution"
   ]
  },
  {
   "cell_type": "code",
   "execution_count": null,
   "metadata": {},
   "outputs": [],
   "source": [
    "# %reload ../models/Models_eval.py\n",
    "\n",
<<<<<<< HEAD
    "for model in models:\n",
    "    print(f\"\\nRunning GridSearch for {model}...\")\n",
    "    gsv = GridSearchCV(\n",
    "        estimator=models[model],\n",
    "        param_grid=param_grids[model],\n",
    "        cv=5,\n",
    "        scoring=scoring,\n",
    "        refit='accuracy'  # Primary metric for model selection\n",
    "    )\n",
    "    gsv.fit(X_train, y_train_encoded)\n",
    "    best_models[model] = gsv.best_estimator_\n",
    "    best_index = gsv.best_index_\n",
    "    print(f'Best parameters for {model}: {gsv.best_params_}')\n",
    "    print(f'Best accuracy: {gsv.cv_results_[\"mean_test_accuracy\"][best_index]:.4f}')\n",
    "    print(f'Best precision: {gsv.cv_results_[\"mean_test_precision\"][best_index]:.4f}')\n",
    "    print(f'Best recall: {gsv.cv_results_[\"mean_test_recall\"][best_index]:.4f}')"
=======
    "from sklearn.model_selection import GridSearchCV\n",
    "\n",
    "def grid_search_cv_eval(X,Y, models, param_grid, scorings,cross_validation):\n",
    "\n",
    "    best_models = {}\n",
    "    result = {}\n",
    "    for model in models:\n",
    "        print(result)\n",
    "        print(f\"\\nRunning GridSearch for {model}...\")\n",
    "        gsv = GridSearchCV(\n",
    "            estimator=models[model],\n",
    "            param_grid=param_grid[model],\n",
    "            cv=cross_validation,\n",
    "            scoring=scorings,\n",
    "            refit='accuracy'  # Primary metric for model selection\n",
    "        )\n",
    "        gsv.fit(X, Y)\n",
    "        best_models[model] = gsv.best_estimator_\n",
    "        best_index = gsv.best_index_\n",
    "        print(f'Best parameters for {model}: {gsv.best_params_}')\n",
    "        print(f'Best accuracy: {gsv.cv_results_[\"mean_test_accuracy\"][best_index]:.4f}')\n",
    "        print(f'Best precision: {gsv.cv_results_[\"mean_test_precision\"][best_index]:.4f}')\n",
    "        print(f'Best recall: {gsv.cv_results_[\"mean_test_recall\"][best_index]:.4f}')\n",
    "        result[model] = {\"parameter\":gsv.best_params_,\"accuracy\":gsv.cv_results_[\"mean_test_accuracy\"][best_index], \"precision\": gsv.cv_results_[\"mean_test_precision\"][best_index],\"recall\": gsv.cv_results_[\"mean_test_recall\"][best_index]}\n",
    "\n",
    "    return best_models, result"
   ]
  },
  {
   "cell_type": "code",
   "execution_count": 19,
   "metadata": {},
   "outputs": [
    {
     "name": "stdout",
     "output_type": "stream",
     "text": [
      "{}\n",
      "\n",
      "Running GridSearch for RandomForest...\n",
      "Best parameters for RandomForest: {'max_depth': 20, 'n_estimators': 100}\n",
      "Best accuracy: 0.9491\n",
      "Best precision: 0.9514\n",
      "Best recall: 0.9491\n",
      "{'RandomForest': {'parameter': {'max_depth': 20, 'n_estimators': 100}, 'accuracy': 0.9490748233263204, 'precision': 0.9514377594755266, 'recall': 0.9490748233263204}}\n",
      "\n",
      "Running GridSearch for DecisionTree...\n",
      "Best parameters for DecisionTree: {'max_depth': 20, 'min_samples_split': 2}\n",
      "Best accuracy: 0.9239\n",
      "Best precision: 0.9251\n",
      "Best recall: 0.9239\n",
      "{'RandomForest': {'parameter': {'max_depth': 20, 'n_estimators': 100}, 'accuracy': 0.9490748233263204, 'precision': 0.9514377594755266, 'recall': 0.9490748233263204}, 'DecisionTree': {'parameter': {'max_depth': 20, 'min_samples_split': 2}, 'accuracy': 0.9239125352897808, 'precision': 0.9251127465907036, 'recall': 0.9239125352897808}}\n",
      "\n",
      "Running GridSearch for KNeighbors...\n",
      "Best parameters for KNeighbors: {'n_neighbors': 3}\n",
      "Best accuracy: 0.8125\n",
      "Best precision: 0.8080\n",
      "Best recall: 0.8125\n",
      "{'RandomForest': {'parameter': {'max_depth': 20, 'n_estimators': 100}, 'accuracy': 0.9490748233263204, 'precision': 0.9514377594755266, 'recall': 0.9490748233263204}, 'DecisionTree': {'parameter': {'max_depth': 20, 'min_samples_split': 2}, 'accuracy': 0.9239125352897808, 'precision': 0.9251127465907036, 'recall': 0.9239125352897808}, 'KNeighbors': {'parameter': {'n_neighbors': 3}, 'accuracy': 0.8124777472082861, 'precision': 0.8079964356209777, 'recall': 0.8124777472082861}}\n",
      "\n",
      "Running GridSearch for xgbc...\n",
      "Best parameters for xgbc: {'learning_rate': 0.03, 'n_estimators': 600, 'nthread': -1, 'objective': 'multi:softmax', 'random_state': 42, 'verbosity': 0}\n",
      "Best accuracy: 0.9593\n",
      "Best precision: 0.9600\n",
      "Best recall: 0.9593\n"
     ]
    },
    {
     "data": {
      "text/plain": [
       "({'RandomForest': RandomForestClassifier(max_depth=20),\n",
       "  'DecisionTree': DecisionTreeClassifier(max_depth=20),\n",
       "  'KNeighbors': KNeighborsClassifier(n_neighbors=3),\n",
       "  'xgbc': XGBClassifier(base_score=None, booster=None, callbacks=None,\n",
       "                colsample_bylevel=None, colsample_bynode=None,\n",
       "                colsample_bytree=None, device=None, early_stopping_rounds=None,\n",
       "                enable_categorical=False, eval_metric=None, feature_types=None,\n",
       "                gamma=None, grow_policy=None, importance_type=None,\n",
       "                interaction_constraints=None, learning_rate=0.03, max_bin=None,\n",
       "                max_cat_threshold=None, max_cat_to_onehot=None,\n",
       "                max_delta_step=None, max_depth=None, max_leaves=None,\n",
       "                min_child_weight=None, missing=nan, monotone_constraints=None,\n",
       "                multi_strategy=None, n_estimators=600, n_jobs=None, nthread=-1,\n",
       "                num_parallel_tree=None, ...)},\n",
       " {'RandomForest': {'parameter': {'max_depth': 20, 'n_estimators': 100},\n",
       "   'accuracy': 0.9490748233263204,\n",
       "   'precision': 0.9514377594755266,\n",
       "   'recall': 0.9490748233263204},\n",
       "  'DecisionTree': {'parameter': {'max_depth': 20, 'min_samples_split': 2},\n",
       "   'accuracy': 0.9239125352897808,\n",
       "   'precision': 0.9251127465907036,\n",
       "   'recall': 0.9239125352897808},\n",
       "  'KNeighbors': {'parameter': {'n_neighbors': 3},\n",
       "   'accuracy': 0.8124777472082861,\n",
       "   'precision': 0.8079964356209777,\n",
       "   'recall': 0.8124777472082861},\n",
       "  'xgbc': {'parameter': {'learning_rate': 0.03,\n",
       "    'n_estimators': 600,\n",
       "    'nthread': -1,\n",
       "    'objective': 'multi:softmax',\n",
       "    'random_state': 42,\n",
       "    'verbosity': 0},\n",
       "   'accuracy': 0.9592580604556653,\n",
       "   'precision': 0.9600415655036627,\n",
       "   'recall': 0.9592580604556653}})"
      ]
     },
     "execution_count": 19,
     "metadata": {},
     "output_type": "execute_result"
    }
   ],
   "source": [
    "\n",
    "best_models, result = grid_search_cv_eval(x_scaled, y_train_encoded, models, param_grids, scoring, cross_validation=5)\n",
    "best_models, result"
   ]
  },
  {
   "cell_type": "markdown",
   "metadata": {},
   "source": [
    "### Models Performance Visuals"
   ]
  },
  {
   "cell_type": "code",
   "execution_count": 20,
   "metadata": {},
   "outputs": [],
   "source": [
    "result_df = pd.DataFrame(result).T\n"
   ]
  },
  {
   "cell_type": "markdown",
   "metadata": {},
   "source": [
    "#### Accuracy Comparison"
   ]
  },
  {
   "cell_type": "code",
   "execution_count": 21,
   "metadata": {},
   "outputs": [
    {
     "name": "stderr",
     "output_type": "stream",
     "text": [
      "/var/folders/mx/wmp0fhkx7bv5my3zvkgnkwj80000gn/T/ipykernel_8714/1895503191.py:5: FutureWarning: \n",
      "\n",
      "Passing `palette` without assigning `hue` is deprecated and will be removed in v0.14.0. Assign the `x` variable to `hue` and set `legend=False` for the same effect.\n",
      "\n",
      "  sns.barplot(x=result_df.index, y='accuracy', data=result_df, palette=\"Blues_d\")\n"
     ]
    },
    {
     "data": {
      "image/png": "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",
      "text/plain": [
       "<Figure size 1000x600 with 1 Axes>"
      ]
     },
     "metadata": {},
     "output_type": "display_data"
    }
   ],
   "source": [
    "# Plot Accuracy\n",
    "import matplotlib.pyplot as plt \n",
    "import seaborn as sns \n",
    "plt.figure(figsize=(10, 6))\n",
    "sns.barplot(x=result_df.index, y='accuracy', data=result_df, palette=\"Blues_d\")\n",
    "plt.title('Model Comparison: Accuracy', fontsize=16)\n",
    "plt.ylabel('Accuracy', fontsize=14)\n",
    "plt.xlabel('Model', fontsize=14)\n",
    "plt.xticks(rotation=45, ha='right')\n",
    "plt.tight_layout()\n",
    "plt.show()"
   ]
  },
  {
   "cell_type": "markdown",
   "metadata": {},
   "source": [
    "#### Precision Comparison"
   ]
  },
  {
   "cell_type": "code",
   "execution_count": 22,
   "metadata": {},
   "outputs": [
    {
     "name": "stderr",
     "output_type": "stream",
     "text": [
      "/var/folders/mx/wmp0fhkx7bv5my3zvkgnkwj80000gn/T/ipykernel_8714/3424882693.py:3: FutureWarning: \n",
      "\n",
      "Passing `palette` without assigning `hue` is deprecated and will be removed in v0.14.0. Assign the `x` variable to `hue` and set `legend=False` for the same effect.\n",
      "\n",
      "  sns.barplot(x=result_df.index, y='precision', data=result_df, palette=\"Greens_d\")\n"
     ]
    },
    {
     "data": {
      "image/png": "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",
      "text/plain": [
       "<Figure size 1000x600 with 1 Axes>"
      ]
     },
     "metadata": {},
     "output_type": "display_data"
    }
   ],
   "source": [
    "# Plot Precision\n",
    "plt.figure(figsize=(10, 6))\n",
    "sns.barplot(x=result_df.index, y='precision', data=result_df, palette=\"Greens_d\")\n",
    "plt.title('Model Comparison: Precision', fontsize=16)\n",
    "plt.ylabel('Precision', fontsize=14)\n",
    "plt.xlabel('Model', fontsize=14)\n",
    "plt.xticks(rotation=45, ha='right')\n",
    "plt.tight_layout()\n",
    "plt.show()"
   ]
  },
  {
   "cell_type": "markdown",
   "metadata": {},
   "source": [
    "#### Recall Comparison"
   ]
  },
  {
   "cell_type": "code",
   "execution_count": 23,
   "metadata": {},
   "outputs": [
    {
     "name": "stderr",
     "output_type": "stream",
     "text": [
      "/var/folders/mx/wmp0fhkx7bv5my3zvkgnkwj80000gn/T/ipykernel_8714/900479777.py:3: FutureWarning: \n",
      "\n",
      "Passing `palette` without assigning `hue` is deprecated and will be removed in v0.14.0. Assign the `x` variable to `hue` and set `legend=False` for the same effect.\n",
      "\n",
      "  sns.barplot(x=result_df.index, y='recall', data=result_df, palette=\"Oranges_d\")\n"
     ]
    },
    {
     "data": {
      "image/png": "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",
      "text/plain": [
       "<Figure size 1000x600 with 1 Axes>"
      ]
     },
     "metadata": {},
     "output_type": "display_data"
    }
   ],
   "source": [
    "# Plot Precision\n",
    "plt.figure(figsize=(10, 6))\n",
    "sns.barplot(x=result_df.index, y='recall', data=result_df, palette=\"Oranges_d\")\n",
    "plt.title('Model Comparison: Recall', fontsize=16)\n",
    "plt.ylabel('Recall', fontsize=14)\n",
    "plt.xlabel('Model', fontsize=14)\n",
    "plt.xticks(rotation=45, ha='right')\n",
    "plt.tight_layout()\n",
    "plt.show()"
   ]
  },
  {
   "cell_type": "markdown",
   "metadata": {},
   "source": [
    "### Based on Visuals above we can clearly notice that RandomForest and XGBC models are showing good results. We will tune the parameters next to find the best suitable model"
   ]
  },
  {
   "cell_type": "markdown",
   "metadata": {},
   "source": [
    "#### Hyper tuning the two best models - Random Forest and XGBC"
   ]
  },
  {
   "cell_type": "code",
   "execution_count": 27,
   "metadata": {},
   "outputs": [],
   "source": [
    "models={'RandomForest_hyper_tuned':RandomForestClassifier(),\n",
    "        'xgbc_hyper_tuned': XGBClassifier()}"
   ]
  },
  {
   "cell_type": "code",
   "execution_count": 30,
   "metadata": {},
   "outputs": [],
   "source": [
    "param_grids={'RandomForest_hyper_tuned': {\n",
    "                'n_estimators': [50, 100, 200, 400],\n",
    "                'max_depth': [None, 10, 20]},\n",
    "             'xgbc_hyper_tuned':{\n",
    "            'n_estimators':[50, 100, 200, 400],\n",
    "            'learning_rate':[0.001, 0.01, 0.03, 0.3],\n",
    "            'objective':['multi:softmax'],\n",
    "            'verbosity':[0],\n",
    "            'nthread':[-1],\n",
    "            'random_state':[42]}\n",
    "    }"
   ]
  },
  {
   "cell_type": "code",
   "execution_count": 31,
   "metadata": {},
   "outputs": [
    {
     "name": "stdout",
     "output_type": "stream",
     "text": [
      "{}\n",
      "\n",
      "Running GridSearch for RandomForest_hyper_tuned...\n",
      "Best parameters for RandomForest_hyper_tuned: {'max_depth': None, 'n_estimators': 200}\n",
      "Best accuracy: 0.9539\n",
      "Best precision: 0.9560\n",
      "Best recall: 0.9539\n",
      "{'RandomForest_hyper_tuned': {'parameter': {'max_depth': None, 'n_estimators': 200}, 'accuracy': 0.9538706371041702, 'precision': 0.9560179800768219, 'recall': 0.9538706371041702}}\n",
      "\n",
      "Running GridSearch for xgbc_hyper_tuned...\n",
      "Best parameters for xgbc_hyper_tuned: {'learning_rate': 0.3, 'n_estimators': 50, 'nthread': -1, 'objective': 'multi:softmax', 'random_state': 42, 'verbosity': 0}\n",
      "Best accuracy: 0.9617\n",
      "Best precision: 0.9623\n",
      "Best recall: 0.9617\n"
     ]
    },
    {
     "data": {
      "text/plain": [
       "({'RandomForest_hyper_tuned': RandomForestClassifier(n_estimators=200),\n",
       "  'xgbc_hyper_tuned': XGBClassifier(base_score=None, booster=None, callbacks=None,\n",
       "                colsample_bylevel=None, colsample_bynode=None,\n",
       "                colsample_bytree=None, device=None, early_stopping_rounds=None,\n",
       "                enable_categorical=False, eval_metric=None, feature_types=None,\n",
       "                gamma=None, grow_policy=None, importance_type=None,\n",
       "                interaction_constraints=None, learning_rate=0.3, max_bin=None,\n",
       "                max_cat_threshold=None, max_cat_to_onehot=None,\n",
       "                max_delta_step=None, max_depth=None, max_leaves=None,\n",
       "                min_child_weight=None, missing=nan, monotone_constraints=None,\n",
       "                multi_strategy=None, n_estimators=50, n_jobs=None, nthread=-1,\n",
       "                num_parallel_tree=None, ...)},\n",
       " {'RandomForest_hyper_tuned': {'parameter': {'max_depth': None,\n",
       "    'n_estimators': 200},\n",
       "   'accuracy': 0.9538706371041702,\n",
       "   'precision': 0.9560179800768219,\n",
       "   'recall': 0.9538706371041702},\n",
       "  'xgbc_hyper_tuned': {'parameter': {'learning_rate': 0.3,\n",
       "    'n_estimators': 50,\n",
       "    'nthread': -1,\n",
       "    'objective': 'multi:softmax',\n",
       "    'random_state': 42,\n",
       "    'verbosity': 0},\n",
       "   'accuracy': 0.9616550682418946,\n",
       "   'precision': 0.9622594715336378,\n",
       "   'recall': 0.9616550682418946}})"
      ]
     },
     "execution_count": 31,
     "metadata": {},
     "output_type": "execute_result"
    }
   ],
   "source": [
    "best_models_hyper_tuned, result_hyper_tuned = grid_search_cv_eval(x_scaled, y_train_encoded, models, param_grids, scoring, cross_validation=5)\n",
    "best_models_hyper_tuned, result_hyper_tuned"
>>>>>>> c191d67dc685fe5b4d114c09f878e1f1474ed000
   ]
  },
  {
   "cell_type": "markdown",
   "metadata": {},
   "source": [
    "### 5. Feature Importance"
   ]
  },
  {
   "cell_type": "code",
<<<<<<< HEAD
   "execution_count": null,
   "metadata": {},
   "outputs": [],
   "source": [
    "col = "
   ]
  },
  {
   "cell_type": "code",
   "execution_count": null,
   "metadata": {},
   "outputs": [],
=======
   "execution_count": 25,
   "metadata": {},
   "outputs": [
    {
     "name": "stderr",
     "output_type": "stream",
     "text": [
      "/var/folders/mx/wmp0fhkx7bv5my3zvkgnkwj80000gn/T/ipykernel_8714/2094430465.py:16: FutureWarning: \n",
      "\n",
      "Passing `palette` without assigning `hue` is deprecated and will be removed in v0.14.0. Assign the `y` variable to `hue` and set `legend=False` for the same effect.\n",
      "\n",
      "  ax = sns.barplot(y=fimp.index, x=fimp.values, palette=palette, orient='h')\n",
      "/var/folders/mx/wmp0fhkx7bv5my3zvkgnkwj80000gn/T/ipykernel_8714/2094430465.py:16: UserWarning: \n",
      "The palette list has fewer values (4) than needed (31) and will cycle, which may produce an uninterpretable plot.\n",
      "  ax = sns.barplot(y=fimp.index, x=fimp.values, palette=palette, orient='h')\n"
     ]
    },
    {
     "data": {
      "image/png": "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",
      "text/plain": [
       "<Figure size 1700x1300 with 1 Axes>"
      ]
     },
     "metadata": {},
     "output_type": "display_data"
    }
   ],
>>>>>>> c191d67dc685fe5b4d114c09f878e1f1474ed000
   "source": [
    "from sklearn.ensemble import RandomForestClassifier\n",
    "import seaborn as sns\n",
    "import plotly.express as px\n",
    "\n",
    "from matplotlib import pyplot as plt\n",
    "from sklearn.model_selection import cross_val_score\n",
    "\n",
    "palette = ['#008080','#FF6347', '#E50000', '#D2691E'] # Creating color palette for plots\n",
    "\n",
    "clf = RandomForestClassifier(max_depth=8, min_samples_leaf=3, min_samples_split=3, n_estimators=5000, random_state=13)\n",
    "clf = clf.fit(X_train, y_train_encoded)\n",
    "\n",
    "fimp = pd.Series(data=clf.feature_importances_, index=  ).sort_values(ascending=False)\n",
    "plt.figure(figsize=(17,13))\n",
    "plt.title(\"Feature importance\")\n",
    "ax = sns.barplot(y=fimp.index, x=fimp.values, palette=palette, orient='h')"
   ]
  },
  {
   "cell_type": "markdown",
   "metadata": {},
   "source": [
    "### SHAP Explainibity"
   ]
  },
  {
   "cell_type": "code",
   "execution_count": 26,
   "metadata": {},
   "outputs": [],
   "source": [
    "### code here\n"
   ]
  }
 ],
 "metadata": {
  "kernelspec": {
   "display_name": "dsi_participant",
   "language": "python",
   "name": "python3"
  },
  "language_info": {
   "codemirror_mode": {
    "name": "ipython",
    "version": 3
   },
   "file_extension": ".py",
   "mimetype": "text/x-python",
   "name": "python",
   "nbconvert_exporter": "python",
   "pygments_lexer": "ipython3",
   "version": "3.9.19"
  }
 },
 "nbformat": 4,
 "nbformat_minor": 2
}
